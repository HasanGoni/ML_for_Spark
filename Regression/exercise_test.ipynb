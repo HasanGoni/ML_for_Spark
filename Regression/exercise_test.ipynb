{
 "cells": [
  {
   "cell_type": "code",
   "execution_count": 2,
   "metadata": {},
   "outputs": [
    {
     "data": {
      "text/html": [
       "\n",
       "            <div>\n",
       "                <p><b>SparkSession - in-memory</b></p>\n",
       "                \n",
       "        <div>\n",
       "            <p><b>SparkContext</b></p>\n",
       "\n",
       "            <p><a href=\"http://192.168.0.24:4040\">Spark UI</a></p>\n",
       "\n",
       "            <dl>\n",
       "              <dt>Version</dt>\n",
       "                <dd><code>v3.1.2</code></dd>\n",
       "              <dt>Master</dt>\n",
       "                <dd><code>local[*]</code></dd>\n",
       "              <dt>AppName</dt>\n",
       "                <dd><code>RegressionExercise</code></dd>\n",
       "            </dl>\n",
       "        </div>\n",
       "        \n",
       "            </div>\n",
       "        "
      ],
      "text/plain": [
       "<pyspark.sql.session.SparkSession at 0x7f94242888b0>"
      ]
     },
     "execution_count": 2,
     "metadata": {},
     "output_type": "execute_result"
    }
   ],
   "source": [
    "from pyspark.sql import SparkSession\n",
    "spark = SparkSession\\\n",
    "        .builder\\\n",
    "        .appName('RegressionExercise')\\\n",
    "        .getOrCreate()\n",
    "spark"
   ]
  },
  {
   "cell_type": "code",
   "execution_count": 3,
   "metadata": {},
   "outputs": [],
   "source": [
    "from pyspark.sql.types import *\n",
    "from pyspark.sql.functions import *\n",
    "from pyspark.ml.feature import StringIndexer\n",
    "from pyspark.ml.feature import VectorAssembler\n",
    "\n",
    "from pyspark.ml.regression import RandomForestRegressor\n",
    "from pyspark.ml.regression import GBTRegressor\n",
    "from pyspark.ml.evaluation import RegressionEvaluator\n",
    "from pyspark.ml.tuning import ParamGridBuilder\n",
    "from pyspark.ml.tuning import CrossValidator\n"
   ]
  },
  {
   "cell_type": "code",
   "execution_count": 6,
   "metadata": {},
   "outputs": [
    {
     "name": "stdout",
     "output_type": "stream",
     "text": [
      "   cement   slag  flyash  water  superplasticizer  coarseaggregate  \\\n",
      "0   540.0    0.0     0.0  162.0               2.5           1040.0   \n",
      "1   540.0    0.0     0.0  162.0               2.5           1055.0   \n",
      "2   332.5  142.5     0.0  228.0               0.0            932.0   \n",
      "3   332.5  142.5     0.0  228.0               0.0            932.0   \n",
      "4   198.6  132.4     0.0  192.0               0.0            978.4   \n",
      "\n",
      "   fineaggregate  age  csMPa  \n",
      "0          676.0   28  79.99  \n",
      "1          676.0   28  61.89  \n",
      "2          594.0  270  40.27  \n",
      "3          594.0  365  41.05  \n",
      "4          825.5  360  44.30  \n",
      "input columns are == <bound method Kernel.raw_input of <ipykernel.ipkernel.IPythonKernel object at 0x7f94408e78b0>>\n",
      "total dataframe rows = 1030\n",
      " dataframe rows after na removal = 1030\n",
      "changing dependent variable name to label\n",
      "changing dependent variable label type\n",
      " converting columns to have continous and string varialbles\n",
      "\n",
      "continous variables are ['cement', 'slag', 'flyash', 'water', 'superplasticizer', 'coarseaggregate', 'fineaggregate', 'age']\n",
      "\n",
      "string variables are []\n",
      "\n",
      "==age== has right skewness, skew = 3.2644145354168086\n",
      "vectorizing started == \n",
      "\n",
      "+--------------------+-----+\n",
      "|            features|label|\n",
      "+--------------------+-----+\n",
      "|[540.0,0.0,0.0,16...|79.99|\n",
      "|[540.0,0.0,0.0,16...|61.89|\n",
      "|[332.5,142.5,0.0,...|40.27|\n",
      "|[332.5,142.5,0.0,...|41.05|\n",
      "|[198.6,132.4,0.0,...| 44.3|\n",
      "+--------------------+-----+\n",
      "only showing top 5 rows\n",
      "\n",
      "None\n",
      "\n",
      " splitting data to train and test split\n",
      " train and test split size\n",
      "732 298\n"
     ]
    },
    {
     "name": "stderr",
     "output_type": "stream",
     "text": [
      "22/03/08 20:11:03 WARN DAGScheduler: Broadcasting large task binary with size 1063.3 KiB\n",
      "22/03/08 20:11:03 WARN DAGScheduler: Broadcasting large task binary with size 1183.9 KiB\n",
      "22/03/08 20:11:03 WARN DAGScheduler: Broadcasting large task binary with size 1272.1 KiB\n",
      "22/03/08 20:11:03 WARN DAGScheduler: Broadcasting large task binary with size 1330.6 KiB\n",
      "22/03/08 20:11:03 WARN DAGScheduler: Broadcasting large task binary with size 1298.9 KiB\n",
      "22/03/08 20:11:03 WARN DAGScheduler: Broadcasting large task binary with size 1252.5 KiB\n",
      "22/03/08 20:11:05 WARN DAGScheduler: Broadcasting large task binary with size 1049.0 KiB\n",
      "22/03/08 20:11:05 WARN DAGScheduler: Broadcasting large task binary with size 1325.2 KiB\n",
      "22/03/08 20:11:06 WARN DAGScheduler: Broadcasting large task binary with size 1049.0 KiB\n",
      "22/03/08 20:11:06 WARN DAGScheduler: Broadcasting large task binary with size 1325.2 KiB\n",
      "22/03/08 20:11:06 WARN DAGScheduler: Broadcasting large task binary with size 1563.3 KiB\n",
      "22/03/08 20:11:06 WARN DAGScheduler: Broadcasting large task binary with size 1748.0 KiB\n",
      "22/03/08 20:11:06 WARN DAGScheduler: Broadcasting large task binary with size 1878.3 KiB\n",
      "22/03/08 20:11:06 WARN DAGScheduler: Broadcasting large task binary with size 1892.0 KiB\n",
      "22/03/08 20:11:06 WARN DAGScheduler: Broadcasting large task binary with size 1743.0 KiB\n",
      "22/03/08 20:11:06 WARN DAGScheduler: Broadcasting large task binary with size 1569.6 KiB\n",
      "22/03/08 20:11:11 WARN DAGScheduler: Broadcasting large task binary with size 1124.7 KiB\n",
      "22/03/08 20:11:11 WARN DAGScheduler: Broadcasting large task binary with size 1259.0 KiB\n",
      "22/03/08 20:11:11 WARN DAGScheduler: Broadcasting large task binary with size 1352.8 KiB\n",
      "22/03/08 20:11:11 WARN DAGScheduler: Broadcasting large task binary with size 1411.9 KiB\n",
      "22/03/08 20:11:11 WARN DAGScheduler: Broadcasting large task binary with size 1445.9 KiB\n",
      "22/03/08 20:11:13 WARN DAGScheduler: Broadcasting large task binary with size 1087.9 KiB\n",
      "22/03/08 20:11:13 WARN DAGScheduler: Broadcasting large task binary with size 1384.1 KiB\n",
      "22/03/08 20:11:14 WARN DAGScheduler: Broadcasting large task binary with size 1087.9 KiB\n",
      "22/03/08 20:11:14 WARN DAGScheduler: Broadcasting large task binary with size 1384.1 KiB\n",
      "22/03/08 20:11:14 WARN DAGScheduler: Broadcasting large task binary with size 1639.9 KiB\n",
      "22/03/08 20:11:14 WARN DAGScheduler: Broadcasting large task binary with size 1844.9 KiB\n",
      "22/03/08 20:11:14 WARN DAGScheduler: Broadcasting large task binary with size 1979.3 KiB\n",
      "22/03/08 20:11:14 WARN DAGScheduler: Broadcasting large task binary with size 1988.8 KiB\n",
      "22/03/08 20:11:14 WARN DAGScheduler: Broadcasting large task binary with size 1968.8 KiB\n",
      "22/03/08 20:11:14 WARN DAGScheduler: Broadcasting large task binary with size 1308.8 KiB\n",
      "22/03/08 20:11:19 WARN DAGScheduler: Broadcasting large task binary with size 1141.0 KiB\n",
      "22/03/08 20:11:19 WARN DAGScheduler: Broadcasting large task binary with size 1277.1 KiB\n",
      "22/03/08 20:11:19 WARN DAGScheduler: Broadcasting large task binary with size 1372.5 KiB\n",
      "22/03/08 20:11:19 WARN DAGScheduler: Broadcasting large task binary with size 1435.2 KiB\n",
      "22/03/08 20:11:19 WARN DAGScheduler: Broadcasting large task binary with size 1474.4 KiB\n",
      "22/03/08 20:11:19 WARN DAGScheduler: Broadcasting large task binary with size 1071.2 KiB\n",
      "22/03/08 20:11:21 WARN DAGScheduler: Broadcasting large task binary with size 1076.5 KiB\n",
      "22/03/08 20:11:21 WARN DAGScheduler: Broadcasting large task binary with size 1362.6 KiB\n",
      "22/03/08 20:11:21 WARN DAGScheduler: Broadcasting large task binary with size 1076.5 KiB\n",
      "22/03/08 20:11:22 WARN DAGScheduler: Broadcasting large task binary with size 1362.6 KiB\n",
      "22/03/08 20:11:22 WARN DAGScheduler: Broadcasting large task binary with size 1613.7 KiB\n",
      "22/03/08 20:11:22 WARN DAGScheduler: Broadcasting large task binary with size 1826.0 KiB\n",
      "22/03/08 20:11:22 WARN DAGScheduler: Broadcasting large task binary with size 1996.2 KiB\n",
      "22/03/08 20:11:22 WARN DAGScheduler: Broadcasting large task binary with size 2.1 MiB\n",
      "22/03/08 20:11:22 WARN DAGScheduler: Broadcasting large task binary with size 2031.8 KiB\n",
      "22/03/08 20:11:22 WARN DAGScheduler: Broadcasting large task binary with size 1855.3 KiB\n",
      "22/03/08 20:11:22 WARN DAGScheduler: Broadcasting large task binary with size 1311.4 KiB\n",
      "22/03/08 20:11:23 WARN DAGScheduler: Broadcasting large task binary with size 1188.7 KiB\n",
      "22/03/08 20:11:23 WARN DAGScheduler: Broadcasting large task binary with size 1569.3 KiB\n",
      "22/03/08 20:11:24 WARN DAGScheduler: Broadcasting large task binary with size 1941.2 KiB\n",
      "22/03/08 20:11:24 WARN DAGScheduler: Broadcasting large task binary with size 2.2 MiB\n",
      "22/03/08 20:11:24 WARN DAGScheduler: Broadcasting large task binary with size 2.5 MiB\n",
      "22/03/08 20:11:24 WARN DAGScheduler: Broadcasting large task binary with size 2.7 MiB\n",
      "22/03/08 20:11:24 WARN DAGScheduler: Broadcasting large task binary with size 2.8 MiB\n",
      "22/03/08 20:11:24 WARN DAGScheduler: Broadcasting large task binary with size 2.8 MiB\n",
      "22/03/08 20:11:25 WARN DAGScheduler: Broadcasting large task binary with size 2.6 MiB\n",
      "22/03/08 20:11:25 WARN DAGScheduler: Broadcasting large task binary with size 2.3 MiB\n",
      "22/03/08 20:11:25 WARN DAGScheduler: Broadcasting large task binary with size 1352.5 KiB\n"
     ]
    },
    {
     "name": "stdout",
     "output_type": "stream",
     "text": [
      " rmse for this model on test data = 5.530585105571553\n",
      "\n",
      "+----------------+--------------------+\n",
      "|        features|              values|\n",
      "+----------------+--------------------+\n",
      "|             age| 0.32544833609569535|\n",
      "|          cement| 0.23093102267045404|\n",
      "|           water| 0.10226303259007499|\n",
      "|superplasticizer| 0.10088912507426184|\n",
      "|            slag| 0.07152817306305037|\n",
      "|   fineaggregate|0.061453484958448726|\n",
      "|          flyash|0.058878239754426395|\n",
      "| coarseaggregate|  0.0486085857935882|\n",
      "+----------------+--------------------+\n",
      "\n",
      "None\n"
     ]
    }
   ],
   "source": [
    "from preprocess import preprocessing_csv\n",
    "best_model, fi = preprocessing_csv(\n",
    "    csv_file_name='Concrete_Data.csv',\n",
    "    dependent_column_name='csMPa',\n",
    "    treat_outliers=True,\n",
    "    train_split=0.7,\n",
    "    test_split=0.3,\n",
    "    model_name='random_forest'# gbt_regressor\n",
    "    )"
   ]
  }
 ],
 "metadata": {
  "interpreter": {
   "hash": "c1123dae94279c660cf34f777dea29eda36172fe1a19971838176cb40ac3ccca"
  },
  "kernelspec": {
   "display_name": "Python 3.8.12 ('spark_env_new')",
   "language": "python",
   "name": "python3"
  },
  "language_info": {
   "codemirror_mode": {
    "name": "ipython",
    "version": 3
   },
   "file_extension": ".py",
   "mimetype": "text/x-python",
   "name": "python",
   "nbconvert_exporter": "python",
   "pygments_lexer": "ipython3",
   "version": "3.8.12"
  },
  "orig_nbformat": 4
 },
 "nbformat": 4,
 "nbformat_minor": 2
}
