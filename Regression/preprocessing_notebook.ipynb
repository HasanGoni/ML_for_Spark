{
 "cells": [
  {
   "cell_type": "code",
   "execution_count": 151,
   "metadata": {},
   "outputs": [
    {
     "data": {
      "text/html": [
       "\n",
       "            <div>\n",
       "                <p><b>SparkSession - in-memory</b></p>\n",
       "                \n",
       "        <div>\n",
       "            <p><b>SparkContext</b></p>\n",
       "\n",
       "            <p><a href=\"http://192.168.0.24:4040\">Spark UI</a></p>\n",
       "\n",
       "            <dl>\n",
       "              <dt>Version</dt>\n",
       "                <dd><code>v3.1.2</code></dd>\n",
       "              <dt>Master</dt>\n",
       "                <dd><code>local[*]</code></dd>\n",
       "              <dt>AppName</dt>\n",
       "                <dd><code>Regression_Test</code></dd>\n",
       "            </dl>\n",
       "        </div>\n",
       "        \n",
       "            </div>\n",
       "        "
      ],
      "text/plain": [
       "<pyspark.sql.session.SparkSession at 0x7f2c5e5d66a0>"
      ]
     },
     "execution_count": 151,
     "metadata": {},
     "output_type": "execute_result"
    }
   ],
   "source": [
    "from pyspark.sql import SparkSession\n",
    "spark = SparkSession\\\n",
    "        .builder\\\n",
    "        .appName('Regression_Test')\\\n",
    "        .getOrCreate()\n",
    "spark\n"
   ]
  },
  {
   "cell_type": "code",
   "execution_count": 152,
   "metadata": {},
   "outputs": [],
   "source": [
    "# Importing library\n",
    "from pyspark.sql.types import *\n",
    "from pyspark.sql.functions import *\n",
    "from pyspark.ml.feature import VectorAssembler\n",
    "from pyspark.ml.feature import StringIndexer\n",
    "\n",
    "from pyspark.ml.stat import Correlation\n",
    "from pyspark.ml.regression import *\n",
    "from pyspark.ml.regression import RandomForestRegressor\n",
    "from pyspark.ml.evaluation import *\n",
    "from pyspark.ml.tuning import CrossValidator\n",
    "from pyspark.ml.tuning import ParamGridBuilder\n",
    "\n",
    "\n",
    "# \n",
    "import matplotlib.pyplot as plt\n",
    "import os\n"
   ]
  },
  {
   "cell_type": "code",
   "execution_count": 5,
   "metadata": {},
   "outputs": [],
   "source": [
    "path = 'housing.csv'\n",
    "df = spark.read.csv(path,\n",
    "                    inferSchema=True,\n",
    "                    header=True\n",
    "                    )\n"
   ]
  },
  {
   "cell_type": "code",
   "execution_count": 6,
   "metadata": {},
   "outputs": [
    {
     "data": {
      "text/html": [
       "<div>\n",
       "<style scoped>\n",
       "    .dataframe tbody tr th:only-of-type {\n",
       "        vertical-align: middle;\n",
       "    }\n",
       "\n",
       "    .dataframe tbody tr th {\n",
       "        vertical-align: top;\n",
       "    }\n",
       "\n",
       "    .dataframe thead th {\n",
       "        text-align: right;\n",
       "    }\n",
       "</style>\n",
       "<table border=\"1\" class=\"dataframe\">\n",
       "  <thead>\n",
       "    <tr style=\"text-align: right;\">\n",
       "      <th></th>\n",
       "      <th>longitude</th>\n",
       "      <th>latitude</th>\n",
       "      <th>housing_median_age</th>\n",
       "      <th>total_rooms</th>\n",
       "      <th>total_bedrooms</th>\n",
       "      <th>population</th>\n",
       "      <th>households</th>\n",
       "      <th>median_income</th>\n",
       "      <th>median_house_value</th>\n",
       "      <th>ocean_proximity</th>\n",
       "    </tr>\n",
       "  </thead>\n",
       "  <tbody>\n",
       "    <tr>\n",
       "      <th>0</th>\n",
       "      <td>-122.23</td>\n",
       "      <td>37.88</td>\n",
       "      <td>41.0</td>\n",
       "      <td>880.0</td>\n",
       "      <td>129.0</td>\n",
       "      <td>322.0</td>\n",
       "      <td>126.0</td>\n",
       "      <td>8.3252</td>\n",
       "      <td>452600.0</td>\n",
       "      <td>NEAR BAY</td>\n",
       "    </tr>\n",
       "    <tr>\n",
       "      <th>1</th>\n",
       "      <td>-122.22</td>\n",
       "      <td>37.86</td>\n",
       "      <td>21.0</td>\n",
       "      <td>7099.0</td>\n",
       "      <td>1106.0</td>\n",
       "      <td>2401.0</td>\n",
       "      <td>1138.0</td>\n",
       "      <td>8.3014</td>\n",
       "      <td>358500.0</td>\n",
       "      <td>NEAR BAY</td>\n",
       "    </tr>\n",
       "    <tr>\n",
       "      <th>2</th>\n",
       "      <td>-122.24</td>\n",
       "      <td>37.85</td>\n",
       "      <td>52.0</td>\n",
       "      <td>1467.0</td>\n",
       "      <td>190.0</td>\n",
       "      <td>496.0</td>\n",
       "      <td>177.0</td>\n",
       "      <td>7.2574</td>\n",
       "      <td>352100.0</td>\n",
       "      <td>NEAR BAY</td>\n",
       "    </tr>\n",
       "    <tr>\n",
       "      <th>3</th>\n",
       "      <td>-122.25</td>\n",
       "      <td>37.85</td>\n",
       "      <td>52.0</td>\n",
       "      <td>1274.0</td>\n",
       "      <td>235.0</td>\n",
       "      <td>558.0</td>\n",
       "      <td>219.0</td>\n",
       "      <td>5.6431</td>\n",
       "      <td>341300.0</td>\n",
       "      <td>NEAR BAY</td>\n",
       "    </tr>\n",
       "    <tr>\n",
       "      <th>4</th>\n",
       "      <td>-122.25</td>\n",
       "      <td>37.85</td>\n",
       "      <td>52.0</td>\n",
       "      <td>1627.0</td>\n",
       "      <td>280.0</td>\n",
       "      <td>565.0</td>\n",
       "      <td>259.0</td>\n",
       "      <td>3.8462</td>\n",
       "      <td>342200.0</td>\n",
       "      <td>NEAR BAY</td>\n",
       "    </tr>\n",
       "  </tbody>\n",
       "</table>\n",
       "</div>"
      ],
      "text/plain": [
       "   longitude  latitude  housing_median_age  total_rooms  total_bedrooms  \\\n",
       "0    -122.23     37.88                41.0        880.0           129.0   \n",
       "1    -122.22     37.86                21.0       7099.0          1106.0   \n",
       "2    -122.24     37.85                52.0       1467.0           190.0   \n",
       "3    -122.25     37.85                52.0       1274.0           235.0   \n",
       "4    -122.25     37.85                52.0       1627.0           280.0   \n",
       "\n",
       "   population  households  median_income  median_house_value ocean_proximity  \n",
       "0       322.0       126.0         8.3252            452600.0        NEAR BAY  \n",
       "1      2401.0      1138.0         8.3014            358500.0        NEAR BAY  \n",
       "2       496.0       177.0         7.2574            352100.0        NEAR BAY  \n",
       "3       558.0       219.0         5.6431            341300.0        NEAR BAY  \n",
       "4       565.0       259.0         3.8462            342200.0        NEAR BAY  "
      ]
     },
     "execution_count": 6,
     "metadata": {},
     "output_type": "execute_result"
    }
   ],
   "source": [
    "df.limit(5).toPandas()"
   ]
  },
  {
   "cell_type": "code",
   "execution_count": 8,
   "metadata": {},
   "outputs": [
    {
     "name": "stdout",
     "output_type": "stream",
     "text": [
      "root\n",
      " |-- longitude: double (nullable = true)\n",
      " |-- latitude: double (nullable = true)\n",
      " |-- housing_median_age: double (nullable = true)\n",
      " |-- total_rooms: double (nullable = true)\n",
      " |-- total_bedrooms: double (nullable = true)\n",
      " |-- population: double (nullable = true)\n",
      " |-- households: double (nullable = true)\n",
      " |-- median_income: double (nullable = true)\n",
      " |-- median_house_value: double (nullable = true)\n",
      " |-- ocean_proximity: string (nullable = true)\n",
      "\n"
     ]
    }
   ],
   "source": [
    "df.printSchema()"
   ]
  },
  {
   "cell_type": "code",
   "execution_count": 11,
   "metadata": {},
   "outputs": [
    {
     "name": "stdout",
     "output_type": "stream",
     "text": [
      "20640\n"
     ]
    }
   ],
   "source": [
    "print(f'{df.count()}')"
   ]
  },
  {
   "cell_type": "code",
   "execution_count": 12,
   "metadata": {},
   "outputs": [
    {
     "name": "stdout",
     "output_type": "stream",
     "text": [
      "number of rows 10\n"
     ]
    }
   ],
   "source": [
    "print(f'number of rows {len(df.columns)}')"
   ]
  },
  {
   "cell_type": "markdown",
   "metadata": {},
   "source": [
    "# Drop missing values"
   ]
  },
  {
   "cell_type": "code",
   "execution_count": 13,
   "metadata": {},
   "outputs": [
    {
     "data": {
      "text/plain": [
       "20433"
      ]
     },
     "execution_count": 13,
     "metadata": {},
     "output_type": "execute_result"
    }
   ],
   "source": [
    "df = df.na.drop()\n",
    "df.count()"
   ]
  },
  {
   "cell_type": "markdown",
   "metadata": {},
   "source": [
    "# Format data"
   ]
  },
  {
   "cell_type": "code",
   "execution_count": 15,
   "metadata": {},
   "outputs": [],
   "source": [
    "input_columns = [\n",
    "    'total_bedrooms',\n",
    "    'population',\n",
    "    'households',\n",
    "    'median_income']\n",
    "\n",
    "dependent_var = 'median_house_value'"
   ]
  },
  {
   "cell_type": "markdown",
   "metadata": {},
   "source": [
    "- MLib requires all input columns vectorized.\n",
    "- dependent variable as label. So we rename it\n"
   ]
  },
  {
   "cell_type": "code",
   "execution_count": 24,
   "metadata": {},
   "outputs": [],
   "source": [
    "df_renamed = df.withColumnRenamed(\n",
    "    dependent_var,\n",
    "    'label'\n",
    ")"
   ]
  },
  {
   "cell_type": "code",
   "execution_count": 17,
   "metadata": {},
   "outputs": [
    {
     "data": {
      "text/plain": [
       "['longitude',\n",
       " 'latitude',\n",
       " 'housing_median_age',\n",
       " 'total_rooms',\n",
       " 'total_bedrooms',\n",
       " 'population',\n",
       " 'households',\n",
       " 'median_income',\n",
       " 'label',\n",
       " 'ocean_proximity']"
      ]
     },
     "execution_count": 17,
     "metadata": {},
     "output_type": "execute_result"
    }
   ],
   "source": [
    "df_renamed.columns"
   ]
  },
  {
   "cell_type": "code",
   "execution_count": 25,
   "metadata": {},
   "outputs": [
    {
     "name": "stdout",
     "output_type": "stream",
     "text": [
      "some\n"
     ]
    }
   ],
   "source": [
    "# making sure dependent variable is numeric\n",
    "if str(df_renamed.schema['label'].dataType) != 'IntegerType':\n",
    "    print('some')\n",
    "    df_renamed = df_renamed.withColumn(\n",
    "        'label',\n",
    "        df_renamed['label'].cast(FloatType())\n",
    "    )"
   ]
  },
  {
   "cell_type": "code",
   "execution_count": 26,
   "metadata": {},
   "outputs": [
    {
     "name": "stdout",
     "output_type": "stream",
     "text": [
      "root\n",
      " |-- longitude: double (nullable = true)\n",
      " |-- latitude: double (nullable = true)\n",
      " |-- housing_median_age: double (nullable = true)\n",
      " |-- total_rooms: double (nullable = true)\n",
      " |-- total_bedrooms: double (nullable = true)\n",
      " |-- population: double (nullable = true)\n",
      " |-- households: double (nullable = true)\n",
      " |-- median_income: double (nullable = true)\n",
      " |-- label: float (nullable = true)\n",
      " |-- ocean_proximity: string (nullable = true)\n",
      "\n"
     ]
    }
   ],
   "source": [
    "df_renamed.printSchema()"
   ]
  },
  {
   "cell_type": "markdown",
   "metadata": {},
   "source": [
    "- label is float type"
   ]
  },
  {
   "cell_type": "code",
   "execution_count": 40,
   "metadata": {},
   "outputs": [],
   "source": [
    "# now for other columns\n",
    "numeric_inputs = []\n",
    "string_inputs = []\n",
    "\n",
    "for i in df_renamed.columns:\n",
    "    if str(df_renamed.schema[i].dataType) == 'StringType':\n",
    "        new_col_name = f'{i}_num'\n",
    "        string_inputs.append(new_col_name)\n",
    "        indexer = StringIndexer(\n",
    "            inputCol=i,\n",
    "            outputCol=new_col_name\n",
    "        )\n",
    "        df_indexed = indexer.fit(\n",
    "            df_renamed).transform(\n",
    "                df_renamed\n",
    "            )\n",
    "    else:\n",
    "        numeric_inputs.append(i)\n",
    "        df_indexed = df_renamed"
   ]
  },
  {
   "cell_type": "code",
   "execution_count": 41,
   "metadata": {},
   "outputs": [
    {
     "data": {
      "text/plain": [
       "(['longitude',\n",
       "  'latitude',\n",
       "  'housing_median_age',\n",
       "  'total_rooms',\n",
       "  'total_bedrooms',\n",
       "  'population',\n",
       "  'households',\n",
       "  'median_income',\n",
       "  'label'],\n",
       " ['ocean_proximity_num'])"
      ]
     },
     "execution_count": 41,
     "metadata": {},
     "output_type": "execute_result"
    }
   ],
   "source": [
    "numeric_inputs, string_inputs"
   ]
  },
  {
   "cell_type": "code",
   "execution_count": 42,
   "metadata": {},
   "outputs": [
    {
     "data": {
      "text/html": [
       "<div>\n",
       "<style scoped>\n",
       "    .dataframe tbody tr th:only-of-type {\n",
       "        vertical-align: middle;\n",
       "    }\n",
       "\n",
       "    .dataframe tbody tr th {\n",
       "        vertical-align: top;\n",
       "    }\n",
       "\n",
       "    .dataframe thead th {\n",
       "        text-align: right;\n",
       "    }\n",
       "</style>\n",
       "<table border=\"1\" class=\"dataframe\">\n",
       "  <thead>\n",
       "    <tr style=\"text-align: right;\">\n",
       "      <th></th>\n",
       "      <th>longitude</th>\n",
       "      <th>latitude</th>\n",
       "      <th>housing_median_age</th>\n",
       "      <th>total_rooms</th>\n",
       "      <th>total_bedrooms</th>\n",
       "      <th>population</th>\n",
       "      <th>households</th>\n",
       "      <th>median_income</th>\n",
       "      <th>label</th>\n",
       "      <th>ocean_proximity</th>\n",
       "      <th>ocean_proximity_num</th>\n",
       "    </tr>\n",
       "  </thead>\n",
       "  <tbody>\n",
       "    <tr>\n",
       "      <th>0</th>\n",
       "      <td>-122.23</td>\n",
       "      <td>37.88</td>\n",
       "      <td>41.0</td>\n",
       "      <td>880.0</td>\n",
       "      <td>129.0</td>\n",
       "      <td>322.0</td>\n",
       "      <td>126.0</td>\n",
       "      <td>8.3252</td>\n",
       "      <td>452600.0</td>\n",
       "      <td>NEAR BAY</td>\n",
       "      <td>3.0</td>\n",
       "    </tr>\n",
       "    <tr>\n",
       "      <th>1</th>\n",
       "      <td>-122.22</td>\n",
       "      <td>37.86</td>\n",
       "      <td>21.0</td>\n",
       "      <td>7099.0</td>\n",
       "      <td>1106.0</td>\n",
       "      <td>2401.0</td>\n",
       "      <td>1138.0</td>\n",
       "      <td>8.3014</td>\n",
       "      <td>358500.0</td>\n",
       "      <td>NEAR BAY</td>\n",
       "      <td>3.0</td>\n",
       "    </tr>\n",
       "    <tr>\n",
       "      <th>2</th>\n",
       "      <td>-122.24</td>\n",
       "      <td>37.85</td>\n",
       "      <td>52.0</td>\n",
       "      <td>1467.0</td>\n",
       "      <td>190.0</td>\n",
       "      <td>496.0</td>\n",
       "      <td>177.0</td>\n",
       "      <td>7.2574</td>\n",
       "      <td>352100.0</td>\n",
       "      <td>NEAR BAY</td>\n",
       "      <td>3.0</td>\n",
       "    </tr>\n",
       "    <tr>\n",
       "      <th>3</th>\n",
       "      <td>-122.25</td>\n",
       "      <td>37.85</td>\n",
       "      <td>52.0</td>\n",
       "      <td>1274.0</td>\n",
       "      <td>235.0</td>\n",
       "      <td>558.0</td>\n",
       "      <td>219.0</td>\n",
       "      <td>5.6431</td>\n",
       "      <td>341300.0</td>\n",
       "      <td>NEAR BAY</td>\n",
       "      <td>3.0</td>\n",
       "    </tr>\n",
       "    <tr>\n",
       "      <th>4</th>\n",
       "      <td>-122.25</td>\n",
       "      <td>37.85</td>\n",
       "      <td>52.0</td>\n",
       "      <td>1627.0</td>\n",
       "      <td>280.0</td>\n",
       "      <td>565.0</td>\n",
       "      <td>259.0</td>\n",
       "      <td>3.8462</td>\n",
       "      <td>342200.0</td>\n",
       "      <td>NEAR BAY</td>\n",
       "      <td>3.0</td>\n",
       "    </tr>\n",
       "  </tbody>\n",
       "</table>\n",
       "</div>"
      ],
      "text/plain": [
       "   longitude  latitude  housing_median_age  total_rooms  total_bedrooms  \\\n",
       "0    -122.23     37.88                41.0        880.0           129.0   \n",
       "1    -122.22     37.86                21.0       7099.0          1106.0   \n",
       "2    -122.24     37.85                52.0       1467.0           190.0   \n",
       "3    -122.25     37.85                52.0       1274.0           235.0   \n",
       "4    -122.25     37.85                52.0       1627.0           280.0   \n",
       "\n",
       "   population  households  median_income     label ocean_proximity  \\\n",
       "0       322.0       126.0         8.3252  452600.0        NEAR BAY   \n",
       "1      2401.0      1138.0         8.3014  358500.0        NEAR BAY   \n",
       "2       496.0       177.0         7.2574  352100.0        NEAR BAY   \n",
       "3       558.0       219.0         5.6431  341300.0        NEAR BAY   \n",
       "4       565.0       259.0         3.8462  342200.0        NEAR BAY   \n",
       "\n",
       "   ocean_proximity_num  \n",
       "0                  3.0  \n",
       "1                  3.0  \n",
       "2                  3.0  \n",
       "3                  3.0  \n",
       "4                  3.0  "
      ]
     },
     "execution_count": 42,
     "metadata": {},
     "output_type": "execute_result"
    }
   ],
   "source": [
    "df_indexed.limit(5).toPandas()"
   ]
  },
  {
   "cell_type": "markdown",
   "metadata": {},
   "source": [
    "# Treat Outliers"
   ]
  },
  {
   "cell_type": "code",
   "execution_count": 43,
   "metadata": {},
   "outputs": [],
   "source": [
    "d = {}\n",
    "for i in numeric_inputs:\n",
    "    d[i] = df_indexed.approxQuantile(\n",
    "        i,\n",
    "        [0.01, 0.99],\n",
    "        0.25\n",
    "    )\n"
   ]
  },
  {
   "cell_type": "code",
   "execution_count": 44,
   "metadata": {},
   "outputs": [
    {
     "data": {
      "text/plain": [
       "{'longitude': [-124.35, -114.31],\n",
       " 'latitude': [32.54, 41.95],\n",
       " 'housing_median_age': [1.0, 52.0],\n",
       " 'total_rooms': [2.0, 39320.0],\n",
       " 'total_bedrooms': [1.0, 6445.0],\n",
       " 'population': [3.0, 35682.0],\n",
       " 'households': [1.0, 6082.0],\n",
       " 'median_income': [0.4999, 15.0001],\n",
       " 'label': [14999.0, 500001.0]}"
      ]
     },
     "execution_count": 44,
     "metadata": {},
     "output_type": "execute_result"
    }
   ],
   "source": [
    "d"
   ]
  },
  {
   "cell_type": "code",
   "execution_count": 55,
   "metadata": {},
   "outputs": [
    {
     "data": {
      "text/plain": [
       "-114.31"
      ]
     },
     "execution_count": 55,
     "metadata": {},
     "output_type": "execute_result"
    }
   ],
   "source": [
    "df.groupby().max('longitude').first().asDict()['max(longitude)']"
   ]
  },
  {
   "cell_type": "code",
   "execution_count": 63,
   "metadata": {},
   "outputs": [
    {
     "name": "stdout",
     "output_type": "stream",
     "text": [
      "total_rooms has been treated for right skewness, skew = 4.158511115086185\n",
      "total_bedrooms has been treated for right skewness, skew = 3.4592923587675024\n",
      "population has been treated for right skewness, skew = 4.959652416875933\n",
      "households has been treated for right skewness, skew = 3.4135995729616138\n",
      "median_income has been treated for right skewness, skew = 1.6444361858367003\n"
     ]
    }
   ],
   "source": [
    "for col in numeric_inputs:\n",
    "    skewness_ = df_indexed.agg(\n",
    "        skewness(\n",
    "            df_indexed[col]\n",
    "        )\n",
    "    ).collect()\n",
    "    skew = skewness_[0][0]\n",
    "    if skew > 1:\n",
    "        df_indexed = df_indexed.withColumn(\n",
    "            col,\n",
    "            log(when(\n",
    "                df_indexed[col] < d[col][0], d[col][0]\n",
    "               ).when(\n",
    "                   df_indexed[col] > d[col][1], d[col][1]\n",
    "               ).otherwise(df_indexed[col] + 1)\n",
    "               ).alias(col)\n",
    "            )\n",
    "        print(f'{col} has been treated for right skewness, skew = {skew}')\n",
    "    \n",
    "    elif skew < -1:\n",
    "        df_indexed = df_indexed.withColumn(\n",
    "            col,\n",
    "            exp(when(\n",
    "                df_indexed[col] < d[col][0], d[col][0]\n",
    "               ).when(\n",
    "                   df_indexed[col] > d[col][1], d[col][1]\n",
    "               ).otherwise(df_indexed[col])\n",
    "               ).alias(col)\n",
    "            )\n",
    "        print(f'{col} has been treated for left skewness, skew = {skew}')"
   ]
  },
  {
   "cell_type": "code",
   "execution_count": 62,
   "metadata": {},
   "outputs": [
    {
     "data": {
      "text/plain": [
       "(-124.35, Column<'longitude[0]'>)"
      ]
     },
     "execution_count": 62,
     "metadata": {},
     "output_type": "execute_result"
    }
   ],
   "source": [
    "d[numeric_inputs[0]][0], df[numeric_inputs[0]][0]"
   ]
  },
  {
   "cell_type": "code",
   "execution_count": 65,
   "metadata": {},
   "outputs": [
    {
     "data": {
      "text/plain": [
       "['longitude',\n",
       " 'latitude',\n",
       " 'housing_median_age',\n",
       " 'total_rooms',\n",
       " 'total_bedrooms',\n",
       " 'population',\n",
       " 'households',\n",
       " 'median_income',\n",
       " 'label',\n",
       " 'ocean_proximity_num']"
      ]
     },
     "execution_count": 65,
     "metadata": {},
     "output_type": "execute_result"
    }
   ],
   "source": [
    "features_list = numeric_inputs + string_inputs\n",
    "features_list"
   ]
  },
  {
   "cell_type": "code",
   "execution_count": 67,
   "metadata": {},
   "outputs": [
    {
     "name": "stdout",
     "output_type": "stream",
     "text": [
      "+--------------------+--------+\n",
      "|            features|   label|\n",
      "+--------------------+--------+\n",
      "|[-122.23,37.88,41...|452600.0|\n",
      "|[-122.22,37.86,21...|358500.0|\n",
      "|[-122.24,37.85,52...|352100.0|\n",
      "|[-122.25,37.85,52...|341300.0|\n",
      "|[-122.25,37.85,52...|342200.0|\n",
      "+--------------------+--------+\n",
      "only showing top 5 rows\n",
      "\n"
     ]
    }
   ],
   "source": [
    "assembler = VectorAssembler(\n",
    "    inputCols=features_list,\n",
    "    outputCol='features'\n",
    ")\n",
    "final_data = assembler.transform(\n",
    "    df_indexed).select('features',  'label')\n",
    "final_data.show(5)"
   ]
  },
  {
   "cell_type": "markdown",
   "metadata": {},
   "source": [
    "# Correlation searching"
   ]
  },
  {
   "cell_type": "code",
   "execution_count": 72,
   "metadata": {},
   "outputs": [
    {
     "data": {
      "text/plain": [
       "DenseMatrix(10, 10, [1.0, -0.9246, -0.1094, 0.03, 0.0608, 0.1093, 0.0558, -0.0157, ..., 0.1455, -0.02, -0.0257, -0.0994, -0.0333, -0.0449, 0.021, 1.0], False)"
      ]
     },
     "execution_count": 72,
     "metadata": {},
     "output_type": "execute_result"
    }
   ],
   "source": [
    "# incase of random forest may be not so effective\n",
    "pearsonCorr = Correlation.corr(\n",
    "    final_data,\n",
    "    'features',\n",
    "    'pearson').collect()[0][0]\n",
    "pearsonCorr"
   ]
  },
  {
   "cell_type": "code",
   "execution_count": 80,
   "metadata": {},
   "outputs": [
    {
     "data": {
      "text/plain": [
       "array([[ 1.        , -0.92461611, -0.10935655,  0.02996686,  0.06081674,\n",
       "         0.10925941,  0.05582305, -0.01573692, -0.04539822, -0.43978672],\n",
       "       [-0.92461611,  1.        ,  0.01189907, -0.03255172, -0.06824834,\n",
       "        -0.13654279, -0.08820676, -0.08563664, -0.14463821,  0.39088465],\n",
       "       [-0.10935655,  0.01189907,  1.        , -0.31391828, -0.27211227,\n",
       "        -0.24301083, -0.24163013, -0.13746845,  0.10643205,  0.14546916],\n",
       "       [ 0.02996686, -0.03255172, -0.31391828,  1.        ,  0.94586534,\n",
       "         0.86458016,  0.93169968,  0.25190975,  0.15850639, -0.02000983],\n",
       "       [ 0.06081674, -0.06824834, -0.27211227,  0.94586534,  1.        ,\n",
       "         0.89752321,  0.97459262,  0.0144038 ,  0.05331112, -0.02574857],\n",
       "       [ 0.10925941, -0.13654279, -0.24301083,  0.86458016,  0.89752321,\n",
       "         1.        ,  0.93218972,  0.03178967, -0.02190432, -0.09943278],\n",
       "       [ 0.05582305, -0.08820676, -0.24163013,  0.93169968,  0.97459262,\n",
       "         0.93218972,  1.        ,  0.04694401,  0.07276479, -0.03329627],\n",
       "       [-0.01573692, -0.08563664, -0.13746845,  0.25190975,  0.0144038 ,\n",
       "         0.03178967,  0.04694401,  1.        ,  0.67008549, -0.04491466],\n",
       "       [-0.04539822, -0.14463821,  0.10643205,  0.15850639,  0.05331112,\n",
       "        -0.02190432,  0.07276479,  0.67008549,  1.        ,  0.02095195],\n",
       "       [-0.43978672,  0.39088465,  0.14546916, -0.02000983, -0.02574857,\n",
       "        -0.09943278, -0.03329627, -0.04491466,  0.02095195,  1.        ]])"
      ]
     },
     "execution_count": 80,
     "metadata": {},
     "output_type": "execute_result"
    }
   ],
   "source": [
    "array_ =  pearsonCorr.toArray()\n",
    "array_"
   ]
  },
  {
   "cell_type": "code",
   "execution_count": 84,
   "metadata": {},
   "outputs": [
    {
     "name": "stdout",
     "output_type": "stream",
     "text": [
      "1.0\n",
      "\n",
      " -0.924616113116011\n",
      "-0.924616113116011\n",
      "\n",
      " 1.0\n",
      "-0.109356548630242\n",
      "\n",
      " 0.011899066824497439\n",
      "0.029966862365051562\n",
      "\n",
      " -0.032551722082256276\n",
      "0.060816744144712755\n",
      "\n",
      " -0.06824833979830804\n",
      "0.10925941069250616\n",
      "\n",
      " -0.13654279494763852\n",
      "0.05582305174490014\n",
      "\n",
      " -0.08820676105445614\n",
      "-0.015736919978643103\n",
      "\n",
      " -0.08563663505541788\n",
      "-0.04539821933444431\n",
      "\n",
      " -0.14463821157620982\n",
      "-0.4397867223961979\n",
      "\n",
      " 0.3908846539535469\n"
     ]
    }
   ],
   "source": [
    "for i in array_:\n",
    "    print(i[0])\n",
    "    print(f'\\n {i[1]}')"
   ]
  },
  {
   "cell_type": "markdown",
   "metadata": {},
   "source": [
    "# Split data"
   ]
  },
  {
   "cell_type": "code",
   "execution_count": 98,
   "metadata": {},
   "outputs": [],
   "source": [
    "train, test = final_data.randomSplit([0.7, 0.3])\n",
    "\n",
    "# from pyspark.sql.functions import percent_rank\n",
    "# from pyspark.sql import Window\n",
    "\n",
    "# df = df.withColumn(\n",
    "#                    'rank', \n",
    "#                     percent_rank().over(\n",
    "#                     Window.partitionBy().\n",
    "#                     orderBy('date')))\n",
    "# train_df = df.where(\n",
    "#                     'rank <= .8'\n",
    "#                    ).drop('rank')\n",
    "# test_df = df.where(\n",
    "#                     'rank > .8'\n",
    "#                    ).drop('rank')"
   ]
  },
  {
   "cell_type": "code",
   "execution_count": 99,
   "metadata": {},
   "outputs": [
    {
     "name": "stdout",
     "output_type": "stream",
     "text": [
      "+----------------------------------------------------------------------------------------------------------------------------+--------+\n",
      "|features                                                                                                                    |label   |\n",
      "+----------------------------------------------------------------------------------------------------------------------------+--------+\n",
      "|[-124.35,40.54,52.0,7.507141079727608,5.707110264748875,6.693323668269949,5.602118820879701,1.3899626248063144,94600.0,2.0] |94600.0 |\n",
      "|[-124.3,41.84,17.0,7.8928255262511176,6.2766434893416445,7.126890808898808,6.124683390894205,1.394088904585803,103600.0,2.0]|103600.0|\n",
      "|[-124.25,40.28,32.0,7.266128779556451,6.040254711277414,6.075346031088684,5.236441962829949,1.0789876455318097,76100.0,2.0] |76100.0 |\n",
      "|[-124.23,40.54,52.0,7.899153483343097,6.118097198041348,7.050122520269059,6.077642243349034,1.406244036427511,106700.0,2.0] |106700.0|\n",
      "|[-124.23,40.81,52.0,7.014814351275545,5.3471075307174685,6.300785794663244,5.153291594497779,1.4693019001034988,50800.0,2.0]|50800.0 |\n",
      "+----------------------------------------------------------------------------------------------------------------------------+--------+\n",
      "only showing top 5 rows\n",
      "\n"
     ]
    }
   ],
   "source": [
    "train.count()\n",
    "train.show(5,truncate=False)"
   ]
  },
  {
   "cell_type": "code",
   "execution_count": null,
   "metadata": {},
   "outputs": [],
   "source": [
    "# max_features = 0.5\n",
    "# min_samples_leaf = 5\n",
    "# max_samples = 200_000\n",
    "# n_estimators = 40\n",
    "# oob_score = True\n",
    "\n",
    "\n",
    "##########################\n",
    "# numTrees\n",
    "# maxDepth\n",
    "\n",
    "# featureSubsetStrategy\n",
    "# minInfoGain\n",
    "# minInstancesPerNode"
   ]
  },
  {
   "cell_type": "code",
   "execution_count": 103,
   "metadata": {},
   "outputs": [
    {
     "name": "stderr",
     "output_type": "stream",
     "text": [
      "22/03/07 13:50:41 WARN DAGScheduler: Broadcasting large task binary with size 1393.1 KiB\n",
      "22/03/07 13:50:41 WARN DAGScheduler: Broadcasting large task binary with size 2.3 MiB\n",
      "22/03/07 13:50:42 WARN DAGScheduler: Broadcasting large task binary with size 1435.4 KiB\n",
      "22/03/07 13:50:43 WARN DAGScheduler: Broadcasting large task binary with size 2.4 MiB\n",
      "22/03/07 13:50:44 WARN DAGScheduler: Broadcasting large task binary with size 1394.8 KiB\n",
      "22/03/07 13:50:44 WARN DAGScheduler: Broadcasting large task binary with size 2.3 MiB\n",
      "22/03/07 13:50:52 WARN DAGScheduler: Broadcasting large task binary with size 1412.3 KiB\n",
      "22/03/07 13:50:52 WARN DAGScheduler: Broadcasting large task binary with size 2.3 MiB\n",
      "22/03/07 13:50:53 WARN DAGScheduler: Broadcasting large task binary with size 1456.4 KiB\n",
      "22/03/07 13:50:54 WARN DAGScheduler: Broadcasting large task binary with size 2.4 MiB\n",
      "22/03/07 13:50:55 WARN DAGScheduler: Broadcasting large task binary with size 1425.4 KiB\n",
      "22/03/07 13:50:55 WARN DAGScheduler: Broadcasting large task binary with size 2.3 MiB\n",
      "22/03/07 13:50:57 WARN DAGScheduler: Broadcasting large task binary with size 1487.3 KiB\n",
      "22/03/07 13:50:57 WARN DAGScheduler: Broadcasting large task binary with size 2.5 MiB\n"
     ]
    },
    {
     "name": "stdout",
     "output_type": "stream",
     "text": [
      "rmse of the model is = 9817.446149913087\n",
      "+--------------+---------------------+\n",
      "|features      |score                |\n",
      "+--------------+---------------------+\n",
      "|population    |0.012254274555153374 |\n",
      "|total_bedrooms|0.009446806512804821 |\n",
      "|households    |0.005580737465214972 |\n",
      "|median_income |0.0018013917519767483|\n",
      "+--------------+---------------------+\n",
      "\n",
      "None\n"
     ]
    }
   ],
   "source": [
    "rf = RandomForestRegressor(\n",
    "    labelCol='label',\n",
    "    featuresCol='features',\n",
    "    seed=42)\n",
    "\n",
    "\n",
    "paramGrid = (ParamGridBuilder()\\\n",
    "             .addGrid(rf.numTrees, [5, 20])\n",
    "             .addGrid(rf.maxDepth, [ 2, 5, 10])\n",
    "             .addGrid(rf.maxBins, [5, 10, 20])\n",
    "             .build()\n",
    ")\n",
    "evaluator = RegressionEvaluator(metricName='rmse')\n",
    "\n",
    "crossval = CrossValidator(\n",
    "    estimator=rf,\n",
    "    estimatorParamMaps=paramGrid,\n",
    "    evaluator=evaluator,\n",
    "    numFolds=2)\n",
    "\n",
    "fitModel = crossval.fit(train)\n",
    "\n",
    "# best model\n",
    "rf_best_model = fitModel.bestModel\n",
    "\n",
    "# feature importannce\n",
    "\n",
    "rm_fi = rf_best_model.featureImportances.toArray()\n",
    "\n",
    "imp_scores = []\n",
    "imp_scores = [float(i) for i in rm_fi]\n",
    "\n",
    "fi_result = spark.createDataFrame(zip(\n",
    "                        input_columns, imp_scores),\n",
    "                        schema=['features', 'score'])\n",
    "# predictions \n",
    "predictions = fitModel.transform(test)\n",
    "rmse = evaluator.evaluate(predictions)\n",
    "print(f'rmse of the model is = {rmse}')\n",
    "\n",
    "print(fi_result.orderBy(\n",
    "    fi_result['score'].desc()\n",
    "    ).show(truncate=False))\n",
    "\n",
    "\n",
    "\n",
    "\n",
    "\n"
   ]
  },
  {
   "cell_type": "code",
   "execution_count": 104,
   "metadata": {},
   "outputs": [
    {
     "name": "stderr",
     "output_type": "stream",
     "text": [
      "22/03/07 13:57:08 WARN DAGScheduler: Broadcasting large task binary with size 1009.1 KiB\n",
      "22/03/07 13:57:08 WARN DAGScheduler: Broadcasting large task binary with size 1048.3 KiB\n",
      "22/03/07 13:57:08 WARN DAGScheduler: Broadcasting large task binary with size 1045.7 KiB\n",
      "22/03/07 13:57:08 WARN DAGScheduler: Broadcasting large task binary with size 1046.1 KiB\n",
      "22/03/07 13:57:08 WARN DAGScheduler: Broadcasting large task binary with size 1046.7 KiB\n",
      "22/03/07 13:57:08 WARN DAGScheduler: Broadcasting large task binary with size 1047.9 KiB\n",
      "22/03/07 13:57:08 WARN DAGScheduler: Broadcasting large task binary with size 1050.3 KiB\n",
      "22/03/07 13:57:09 WARN DAGScheduler: Broadcasting large task binary with size 1054.9 KiB\n",
      "22/03/07 13:57:09 WARN DAGScheduler: Broadcasting large task binary with size 1063.6 KiB\n",
      "22/03/07 13:57:09 WARN DAGScheduler: Broadcasting large task binary with size 1079.5 KiB\n",
      "22/03/07 13:57:09 WARN DAGScheduler: Broadcasting large task binary with size 1104.6 KiB\n",
      "22/03/07 13:57:09 WARN DAGScheduler: Broadcasting large task binary with size 1143.1 KiB\n",
      "22/03/07 13:57:09 WARN DAGScheduler: Broadcasting large task binary with size 1135.4 KiB\n",
      "22/03/07 13:57:09 WARN DAGScheduler: Broadcasting large task binary with size 1135.8 KiB\n",
      "22/03/07 13:57:09 WARN DAGScheduler: Broadcasting large task binary with size 1136.4 KiB\n",
      "22/03/07 13:57:09 WARN DAGScheduler: Broadcasting large task binary with size 1137.6 KiB\n",
      "22/03/07 13:57:09 WARN DAGScheduler: Broadcasting large task binary with size 1139.9 KiB\n",
      "22/03/07 13:57:09 WARN DAGScheduler: Broadcasting large task binary with size 1144.4 KiB\n",
      "22/03/07 13:57:09 WARN DAGScheduler: Broadcasting large task binary with size 1153.4 KiB\n",
      "22/03/07 13:57:09 WARN DAGScheduler: Broadcasting large task binary with size 1170.9 KiB\n",
      "22/03/07 13:57:09 WARN DAGScheduler: Broadcasting large task binary with size 1201.3 KiB\n",
      "22/03/07 13:57:09 WARN DAGScheduler: Broadcasting large task binary with size 1250.1 KiB\n",
      "22/03/07 13:57:09 WARN DAGScheduler: Broadcasting large task binary with size 1244.3 KiB\n",
      "22/03/07 13:57:09 WARN DAGScheduler: Broadcasting large task binary with size 1244.8 KiB\n",
      "22/03/07 13:57:10 WARN DAGScheduler: Broadcasting large task binary with size 1245.4 KiB\n",
      "22/03/07 13:57:10 WARN DAGScheduler: Broadcasting large task binary with size 1246.6 KiB\n",
      "22/03/07 13:57:10 WARN DAGScheduler: Broadcasting large task binary with size 1248.6 KiB\n",
      "22/03/07 13:57:10 WARN DAGScheduler: Broadcasting large task binary with size 1252.8 KiB\n",
      "22/03/07 13:57:10 WARN DAGScheduler: Broadcasting large task binary with size 1260.6 KiB\n",
      "22/03/07 13:57:10 WARN DAGScheduler: Broadcasting large task binary with size 1274.6 KiB\n",
      "22/03/07 13:57:10 WARN DAGScheduler: Broadcasting large task binary with size 1299.5 KiB\n",
      "22/03/07 13:57:10 WARN DAGScheduler: Broadcasting large task binary with size 1337.6 KiB\n",
      "22/03/07 13:57:10 WARN DAGScheduler: Broadcasting large task binary with size 1332.2 KiB\n",
      "22/03/07 13:57:10 WARN DAGScheduler: Broadcasting large task binary with size 1332.7 KiB\n",
      "22/03/07 13:57:10 WARN DAGScheduler: Broadcasting large task binary with size 1333.2 KiB\n",
      "22/03/07 13:57:10 WARN DAGScheduler: Broadcasting large task binary with size 1334.4 KiB\n",
      "22/03/07 13:57:10 WARN DAGScheduler: Broadcasting large task binary with size 1336.7 KiB\n",
      "22/03/07 13:57:10 WARN DAGScheduler: Broadcasting large task binary with size 1341.4 KiB\n",
      "22/03/07 13:57:10 WARN DAGScheduler: Broadcasting large task binary with size 1350.2 KiB\n",
      "22/03/07 13:57:10 WARN DAGScheduler: Broadcasting large task binary with size 1365.7 KiB\n",
      "22/03/07 13:57:11 WARN DAGScheduler: Broadcasting large task binary with size 1391.3 KiB\n",
      "22/03/07 13:57:11 WARN DAGScheduler: Broadcasting large task binary with size 1432.3 KiB\n",
      "22/03/07 13:57:11 WARN DAGScheduler: Broadcasting large task binary with size 1427.7 KiB\n",
      "22/03/07 13:57:11 WARN DAGScheduler: Broadcasting large task binary with size 1428.2 KiB\n",
      "22/03/07 13:57:11 WARN DAGScheduler: Broadcasting large task binary with size 1428.8 KiB\n",
      "22/03/07 13:57:11 WARN DAGScheduler: Broadcasting large task binary with size 1429.7 KiB\n",
      "22/03/07 13:57:11 WARN DAGScheduler: Broadcasting large task binary with size 1431.5 KiB\n",
      "22/03/07 13:57:11 WARN DAGScheduler: Broadcasting large task binary with size 1435.1 KiB\n",
      "22/03/07 13:57:11 WARN DAGScheduler: Broadcasting large task binary with size 1442.0 KiB\n",
      "22/03/07 13:57:11 WARN DAGScheduler: Broadcasting large task binary with size 1455.0 KiB\n",
      "22/03/07 13:57:11 WARN DAGScheduler: Broadcasting large task binary with size 1477.5 KiB\n",
      "22/03/07 13:57:11 WARN DAGScheduler: Broadcasting large task binary with size 1509.0 KiB\n",
      "22/03/07 13:57:11 WARN DAGScheduler: Broadcasting large task binary with size 1502.2 KiB\n",
      "22/03/07 13:57:12 WARN DAGScheduler: Broadcasting large task binary with size 1502.7 KiB\n",
      "22/03/07 13:57:12 WARN DAGScheduler: Broadcasting large task binary with size 1503.3 KiB\n",
      "22/03/07 13:57:12 WARN DAGScheduler: Broadcasting large task binary with size 1504.5 KiB\n",
      "22/03/07 13:57:12 WARN DAGScheduler: Broadcasting large task binary with size 1506.8 KiB\n",
      "22/03/07 13:57:12 WARN DAGScheduler: Broadcasting large task binary with size 1511.3 KiB\n",
      "22/03/07 13:57:12 WARN DAGScheduler: Broadcasting large task binary with size 1520.1 KiB\n",
      "22/03/07 13:57:12 WARN DAGScheduler: Broadcasting large task binary with size 1535.9 KiB\n",
      "22/03/07 13:57:12 WARN DAGScheduler: Broadcasting large task binary with size 1563.1 KiB\n",
      "22/03/07 13:57:12 WARN DAGScheduler: Broadcasting large task binary with size 1608.2 KiB\n",
      "22/03/07 13:57:12 WARN DAGScheduler: Broadcasting large task binary with size 1603.4 KiB\n",
      "22/03/07 13:57:12 WARN DAGScheduler: Broadcasting large task binary with size 1603.9 KiB\n",
      "22/03/07 13:57:12 WARN DAGScheduler: Broadcasting large task binary with size 1604.5 KiB\n",
      "22/03/07 13:57:12 WARN DAGScheduler: Broadcasting large task binary with size 1605.3 KiB\n",
      "22/03/07 13:57:12 WARN DAGScheduler: Broadcasting large task binary with size 1606.5 KiB\n",
      "22/03/07 13:57:12 WARN DAGScheduler: Broadcasting large task binary with size 1608.8 KiB\n",
      "22/03/07 13:57:13 WARN DAGScheduler: Broadcasting large task binary with size 1613.3 KiB\n",
      "22/03/07 13:57:13 WARN DAGScheduler: Broadcasting large task binary with size 1622.0 KiB\n",
      "22/03/07 13:57:13 WARN DAGScheduler: Broadcasting large task binary with size 1637.9 KiB\n",
      "22/03/07 13:57:13 WARN DAGScheduler: Broadcasting large task binary with size 1664.9 KiB\n",
      "22/03/07 13:57:13 WARN DAGScheduler: Broadcasting large task binary with size 1664.5 KiB\n",
      "22/03/07 13:57:13 WARN DAGScheduler: Broadcasting large task binary with size 1665.0 KiB\n",
      "22/03/07 13:57:13 WARN DAGScheduler: Broadcasting large task binary with size 1665.6 KiB\n",
      "22/03/07 13:57:13 WARN DAGScheduler: Broadcasting large task binary with size 1666.7 KiB\n",
      "22/03/07 13:57:13 WARN DAGScheduler: Broadcasting large task binary with size 1669.0 KiB\n",
      "22/03/07 13:57:13 WARN DAGScheduler: Broadcasting large task binary with size 1673.6 KiB\n",
      "22/03/07 13:57:13 WARN DAGScheduler: Broadcasting large task binary with size 1682.2 KiB\n",
      "22/03/07 13:57:13 WARN DAGScheduler: Broadcasting large task binary with size 1697.0 KiB\n",
      "22/03/07 13:57:13 WARN DAGScheduler: Broadcasting large task binary with size 1721.5 KiB\n",
      "22/03/07 13:57:14 WARN DAGScheduler: Broadcasting large task binary with size 1763.4 KiB\n",
      "22/03/07 13:57:14 WARN DAGScheduler: Broadcasting large task binary with size 1757.7 KiB\n",
      "22/03/07 13:57:14 WARN DAGScheduler: Broadcasting large task binary with size 1758.1 KiB\n",
      "22/03/07 13:57:14 WARN DAGScheduler: Broadcasting large task binary with size 1758.7 KiB\n",
      "22/03/07 13:57:14 WARN DAGScheduler: Broadcasting large task binary with size 1759.9 KiB\n",
      "22/03/07 13:57:14 WARN DAGScheduler: Broadcasting large task binary with size 1762.2 KiB\n",
      "22/03/07 13:57:14 WARN DAGScheduler: Broadcasting large task binary with size 1766.5 KiB\n",
      "22/03/07 13:57:14 WARN DAGScheduler: Broadcasting large task binary with size 1773.7 KiB\n",
      "22/03/07 13:57:14 WARN DAGScheduler: Broadcasting large task binary with size 1786.4 KiB\n",
      "22/03/07 13:57:14 WARN DAGScheduler: Broadcasting large task binary with size 1808.0 KiB\n",
      "22/03/07 13:57:14 WARN DAGScheduler: Broadcasting large task binary with size 1845.2 KiB\n",
      "22/03/07 13:57:14 WARN DAGScheduler: Broadcasting large task binary with size 1842.5 KiB\n",
      "22/03/07 13:57:14 WARN DAGScheduler: Broadcasting large task binary with size 1843.0 KiB\n",
      "22/03/07 13:57:15 WARN DAGScheduler: Broadcasting large task binary with size 1843.5 KiB\n",
      "22/03/07 13:57:15 WARN DAGScheduler: Broadcasting large task binary with size 1844.7 KiB\n",
      "22/03/07 13:57:15 WARN DAGScheduler: Broadcasting large task binary with size 1846.8 KiB\n",
      "22/03/07 13:57:15 WARN DAGScheduler: Broadcasting large task binary with size 1850.8 KiB\n",
      "22/03/07 13:57:15 WARN DAGScheduler: Broadcasting large task binary with size 1858.7 KiB\n",
      "22/03/07 13:57:15 WARN DAGScheduler: Broadcasting large task binary with size 1873.1 KiB\n",
      "22/03/07 13:57:15 WARN DAGScheduler: Broadcasting large task binary with size 1897.1 KiB\n",
      "22/03/07 13:57:15 WARN DAGScheduler: Broadcasting large task binary with size 1934.7 KiB\n",
      "22/03/07 13:57:20 WARN DAGScheduler: Broadcasting large task binary with size 1030.4 KiB\n",
      "22/03/07 13:57:20 WARN DAGScheduler: Broadcasting large task binary with size 1023.6 KiB\n",
      "22/03/07 13:57:20 WARN DAGScheduler: Broadcasting large task binary with size 1024.1 KiB\n",
      "22/03/07 13:57:20 WARN DAGScheduler: Broadcasting large task binary with size 1024.6 KiB\n",
      "22/03/07 13:57:20 WARN DAGScheduler: Broadcasting large task binary with size 1025.8 KiB\n",
      "22/03/07 13:57:20 WARN DAGScheduler: Broadcasting large task binary with size 1028.1 KiB\n",
      "22/03/07 13:57:20 WARN DAGScheduler: Broadcasting large task binary with size 1032.7 KiB\n",
      "22/03/07 13:57:20 WARN DAGScheduler: Broadcasting large task binary with size 1041.2 KiB\n",
      "22/03/07 13:57:20 WARN DAGScheduler: Broadcasting large task binary with size 1056.4 KiB\n",
      "22/03/07 13:57:20 WARN DAGScheduler: Broadcasting large task binary with size 1082.8 KiB\n",
      "22/03/07 13:57:20 WARN DAGScheduler: Broadcasting large task binary with size 1126.9 KiB\n",
      "22/03/07 13:57:20 WARN DAGScheduler: Broadcasting large task binary with size 1122.3 KiB\n",
      "22/03/07 13:57:21 WARN DAGScheduler: Broadcasting large task binary with size 1122.8 KiB\n",
      "22/03/07 13:57:21 WARN DAGScheduler: Broadcasting large task binary with size 1123.4 KiB\n",
      "22/03/07 13:57:21 WARN DAGScheduler: Broadcasting large task binary with size 1124.5 KiB\n",
      "22/03/07 13:57:21 WARN DAGScheduler: Broadcasting large task binary with size 1126.8 KiB\n",
      "22/03/07 13:57:21 WARN DAGScheduler: Broadcasting large task binary with size 1131.4 KiB\n",
      "22/03/07 13:57:21 WARN DAGScheduler: Broadcasting large task binary with size 1140.1 KiB\n",
      "22/03/07 13:57:21 WARN DAGScheduler: Broadcasting large task binary with size 1156.0 KiB\n",
      "22/03/07 13:57:21 WARN DAGScheduler: Broadcasting large task binary with size 1183.2 KiB\n",
      "22/03/07 13:57:21 WARN DAGScheduler: Broadcasting large task binary with size 1225.1 KiB\n",
      "22/03/07 13:57:21 WARN DAGScheduler: Broadcasting large task binary with size 1216.9 KiB\n",
      "22/03/07 13:57:21 WARN DAGScheduler: Broadcasting large task binary with size 1217.4 KiB\n",
      "22/03/07 13:57:21 WARN DAGScheduler: Broadcasting large task binary with size 1218.0 KiB\n",
      "22/03/07 13:57:21 WARN DAGScheduler: Broadcasting large task binary with size 1219.1 KiB\n",
      "22/03/07 13:57:21 WARN DAGScheduler: Broadcasting large task binary with size 1221.4 KiB\n",
      "22/03/07 13:57:21 WARN DAGScheduler: Broadcasting large task binary with size 1225.7 KiB\n",
      "22/03/07 13:57:21 WARN DAGScheduler: Broadcasting large task binary with size 1232.7 KiB\n",
      "22/03/07 13:57:21 WARN DAGScheduler: Broadcasting large task binary with size 1245.9 KiB\n",
      "22/03/07 13:57:22 WARN DAGScheduler: Broadcasting large task binary with size 1268.7 KiB\n",
      "22/03/07 13:57:22 WARN DAGScheduler: Broadcasting large task binary with size 1301.7 KiB\n",
      "22/03/07 13:57:22 WARN DAGScheduler: Broadcasting large task binary with size 1294.7 KiB\n",
      "22/03/07 13:57:22 WARN DAGScheduler: Broadcasting large task binary with size 1295.1 KiB\n",
      "22/03/07 13:57:22 WARN DAGScheduler: Broadcasting large task binary with size 1295.7 KiB\n",
      "22/03/07 13:57:22 WARN DAGScheduler: Broadcasting large task binary with size 1296.9 KiB\n",
      "22/03/07 13:57:22 WARN DAGScheduler: Broadcasting large task binary with size 1299.1 KiB\n",
      "22/03/07 13:57:22 WARN DAGScheduler: Broadcasting large task binary with size 1302.6 KiB\n",
      "22/03/07 13:57:22 WARN DAGScheduler: Broadcasting large task binary with size 1309.1 KiB\n",
      "22/03/07 13:57:22 WARN DAGScheduler: Broadcasting large task binary with size 1320.1 KiB\n",
      "22/03/07 13:57:22 WARN DAGScheduler: Broadcasting large task binary with size 1338.4 KiB\n",
      "22/03/07 13:57:22 WARN DAGScheduler: Broadcasting large task binary with size 1365.6 KiB\n",
      "22/03/07 13:57:22 WARN DAGScheduler: Broadcasting large task binary with size 1361.1 KiB\n",
      "22/03/07 13:57:22 WARN DAGScheduler: Broadcasting large task binary with size 1361.6 KiB\n",
      "22/03/07 13:57:22 WARN DAGScheduler: Broadcasting large task binary with size 1362.2 KiB\n",
      "22/03/07 13:57:23 WARN DAGScheduler: Broadcasting large task binary with size 1363.3 KiB\n",
      "22/03/07 13:57:23 WARN DAGScheduler: Broadcasting large task binary with size 1365.6 KiB\n",
      "22/03/07 13:57:23 WARN DAGScheduler: Broadcasting large task binary with size 1370.3 KiB\n",
      "22/03/07 13:57:23 WARN DAGScheduler: Broadcasting large task binary with size 1379.5 KiB\n",
      "22/03/07 13:57:23 WARN DAGScheduler: Broadcasting large task binary with size 1396.1 KiB\n",
      "22/03/07 13:57:23 WARN DAGScheduler: Broadcasting large task binary with size 1423.8 KiB\n",
      "22/03/07 13:57:23 WARN DAGScheduler: Broadcasting large task binary with size 1464.9 KiB\n",
      "22/03/07 13:57:23 WARN DAGScheduler: Broadcasting large task binary with size 1456.5 KiB\n",
      "22/03/07 13:57:23 WARN DAGScheduler: Broadcasting large task binary with size 1456.9 KiB\n",
      "22/03/07 13:57:23 WARN DAGScheduler: Broadcasting large task binary with size 1457.5 KiB\n",
      "22/03/07 13:57:23 WARN DAGScheduler: Broadcasting large task binary with size 1458.7 KiB\n",
      "22/03/07 13:57:23 WARN DAGScheduler: Broadcasting large task binary with size 1461.0 KiB\n",
      "22/03/07 13:57:23 WARN DAGScheduler: Broadcasting large task binary with size 1465.6 KiB\n",
      "22/03/07 13:57:23 WARN DAGScheduler: Broadcasting large task binary with size 1474.4 KiB\n",
      "22/03/07 13:57:23 WARN DAGScheduler: Broadcasting large task binary with size 1489.4 KiB\n",
      "22/03/07 13:57:23 WARN DAGScheduler: Broadcasting large task binary with size 1512.0 KiB\n",
      "22/03/07 13:57:24 WARN DAGScheduler: Broadcasting large task binary with size 1544.2 KiB\n",
      "22/03/07 13:57:24 WARN DAGScheduler: Broadcasting large task binary with size 1534.2 KiB\n",
      "22/03/07 13:57:24 WARN DAGScheduler: Broadcasting large task binary with size 1534.7 KiB\n",
      "22/03/07 13:57:24 WARN DAGScheduler: Broadcasting large task binary with size 1535.3 KiB\n",
      "22/03/07 13:57:24 WARN DAGScheduler: Broadcasting large task binary with size 1536.5 KiB\n",
      "22/03/07 13:57:24 WARN DAGScheduler: Broadcasting large task binary with size 1538.8 KiB\n",
      "22/03/07 13:57:24 WARN DAGScheduler: Broadcasting large task binary with size 1543.4 KiB\n",
      "22/03/07 13:57:24 WARN DAGScheduler: Broadcasting large task binary with size 1552.2 KiB\n",
      "22/03/07 13:57:24 WARN DAGScheduler: Broadcasting large task binary with size 1568.9 KiB\n",
      "22/03/07 13:57:24 WARN DAGScheduler: Broadcasting large task binary with size 1596.2 KiB\n",
      "22/03/07 13:57:24 WARN DAGScheduler: Broadcasting large task binary with size 1639.0 KiB\n",
      "22/03/07 13:57:24 WARN DAGScheduler: Broadcasting large task binary with size 1630.9 KiB\n",
      "22/03/07 13:57:24 WARN DAGScheduler: Broadcasting large task binary with size 1631.4 KiB\n",
      "22/03/07 13:57:24 WARN DAGScheduler: Broadcasting large task binary with size 1631.9 KiB\n",
      "22/03/07 13:57:25 WARN DAGScheduler: Broadcasting large task binary with size 1633.1 KiB\n",
      "22/03/07 13:57:25 WARN DAGScheduler: Broadcasting large task binary with size 1635.4 KiB\n",
      "22/03/07 13:57:25 WARN DAGScheduler: Broadcasting large task binary with size 1640.0 KiB\n",
      "22/03/07 13:57:25 WARN DAGScheduler: Broadcasting large task binary with size 1647.9 KiB\n",
      "22/03/07 13:57:25 WARN DAGScheduler: Broadcasting large task binary with size 1661.2 KiB\n",
      "22/03/07 13:57:25 WARN DAGScheduler: Broadcasting large task binary with size 1683.8 KiB\n",
      "22/03/07 13:57:25 WARN DAGScheduler: Broadcasting large task binary with size 1718.6 KiB\n",
      "22/03/07 13:57:25 WARN DAGScheduler: Broadcasting large task binary with size 1712.4 KiB\n",
      "22/03/07 13:57:25 WARN DAGScheduler: Broadcasting large task binary with size 1712.9 KiB\n",
      "22/03/07 13:57:25 WARN DAGScheduler: Broadcasting large task binary with size 1713.4 KiB\n",
      "22/03/07 13:57:25 WARN DAGScheduler: Broadcasting large task binary with size 1714.6 KiB\n",
      "22/03/07 13:57:25 WARN DAGScheduler: Broadcasting large task binary with size 1716.9 KiB\n",
      "22/03/07 13:57:25 WARN DAGScheduler: Broadcasting large task binary with size 1721.6 KiB\n",
      "22/03/07 13:57:25 WARN DAGScheduler: Broadcasting large task binary with size 1730.6 KiB\n",
      "22/03/07 13:57:26 WARN DAGScheduler: Broadcasting large task binary with size 1746.3 KiB\n",
      "22/03/07 13:57:26 WARN DAGScheduler: Broadcasting large task binary with size 1770.5 KiB\n",
      "22/03/07 13:57:26 WARN DAGScheduler: Broadcasting large task binary with size 1806.9 KiB\n",
      "22/03/07 13:57:32 WARN DAGScheduler: Broadcasting large task binary with size 1003.7 KiB\n",
      "22/03/07 13:57:32 WARN DAGScheduler: Broadcasting large task binary with size 1017.1 KiB\n",
      "22/03/07 13:57:32 WARN DAGScheduler: Broadcasting large task binary with size 1036.9 KiB\n",
      "22/03/07 13:57:32 WARN DAGScheduler: Broadcasting large task binary with size 1065.7 KiB\n",
      "22/03/07 13:57:32 WARN DAGScheduler: Broadcasting large task binary with size 1054.6 KiB\n",
      "22/03/07 13:57:32 WARN DAGScheduler: Broadcasting large task binary with size 1055.0 KiB\n",
      "22/03/07 13:57:32 WARN DAGScheduler: Broadcasting large task binary with size 1055.6 KiB\n",
      "22/03/07 13:57:32 WARN DAGScheduler: Broadcasting large task binary with size 1056.8 KiB\n",
      "22/03/07 13:57:32 WARN DAGScheduler: Broadcasting large task binary with size 1059.1 KiB\n",
      "22/03/07 13:57:32 WARN DAGScheduler: Broadcasting large task binary with size 1063.7 KiB\n",
      "22/03/07 13:57:32 WARN DAGScheduler: Broadcasting large task binary with size 1071.7 KiB\n",
      "22/03/07 13:57:32 WARN DAGScheduler: Broadcasting large task binary with size 1086.4 KiB\n",
      "22/03/07 13:57:32 WARN DAGScheduler: Broadcasting large task binary with size 1111.4 KiB\n",
      "22/03/07 13:57:32 WARN DAGScheduler: Broadcasting large task binary with size 1149.4 KiB\n",
      "22/03/07 13:57:32 WARN DAGScheduler: Broadcasting large task binary with size 1143.1 KiB\n",
      "22/03/07 13:57:32 WARN DAGScheduler: Broadcasting large task binary with size 1143.6 KiB\n",
      "22/03/07 13:57:32 WARN DAGScheduler: Broadcasting large task binary with size 1144.1 KiB\n",
      "22/03/07 13:57:33 WARN DAGScheduler: Broadcasting large task binary with size 1145.3 KiB\n",
      "22/03/07 13:57:33 WARN DAGScheduler: Broadcasting large task binary with size 1147.6 KiB\n",
      "22/03/07 13:57:33 WARN DAGScheduler: Broadcasting large task binary with size 1152.2 KiB\n",
      "22/03/07 13:57:33 WARN DAGScheduler: Broadcasting large task binary with size 1161.0 KiB\n",
      "22/03/07 13:57:33 WARN DAGScheduler: Broadcasting large task binary with size 1176.9 KiB\n",
      "22/03/07 13:57:33 WARN DAGScheduler: Broadcasting large task binary with size 1203.6 KiB\n",
      "22/03/07 13:57:33 WARN DAGScheduler: Broadcasting large task binary with size 1241.3 KiB\n",
      "22/03/07 13:57:33 WARN DAGScheduler: Broadcasting large task binary with size 1232.8 KiB\n",
      "22/03/07 13:57:33 WARN DAGScheduler: Broadcasting large task binary with size 1233.3 KiB\n",
      "22/03/07 13:57:33 WARN DAGScheduler: Broadcasting large task binary with size 1233.8 KiB\n",
      "22/03/07 13:57:33 WARN DAGScheduler: Broadcasting large task binary with size 1235.0 KiB\n",
      "22/03/07 13:57:33 WARN DAGScheduler: Broadcasting large task binary with size 1237.3 KiB\n",
      "22/03/07 13:57:33 WARN DAGScheduler: Broadcasting large task binary with size 1241.8 KiB\n",
      "22/03/07 13:57:33 WARN DAGScheduler: Broadcasting large task binary with size 1250.4 KiB\n",
      "22/03/07 13:57:33 WARN DAGScheduler: Broadcasting large task binary with size 1265.7 KiB\n",
      "22/03/07 13:57:33 WARN DAGScheduler: Broadcasting large task binary with size 1291.7 KiB\n",
      "22/03/07 13:57:33 WARN DAGScheduler: Broadcasting large task binary with size 1331.1 KiB\n",
      "22/03/07 13:57:33 WARN DAGScheduler: Broadcasting large task binary with size 1321.6 KiB\n",
      "22/03/07 13:57:34 WARN DAGScheduler: Broadcasting large task binary with size 1322.1 KiB\n",
      "22/03/07 13:57:34 WARN DAGScheduler: Broadcasting large task binary with size 1322.7 KiB\n",
      "22/03/07 13:57:34 WARN DAGScheduler: Broadcasting large task binary with size 1323.8 KiB\n",
      "22/03/07 13:57:34 WARN DAGScheduler: Broadcasting large task binary with size 1326.1 KiB\n",
      "22/03/07 13:57:34 WARN DAGScheduler: Broadcasting large task binary with size 1330.5 KiB\n",
      "22/03/07 13:57:34 WARN DAGScheduler: Broadcasting large task binary with size 1338.1 KiB\n",
      "22/03/07 13:57:34 WARN DAGScheduler: Broadcasting large task binary with size 1349.7 KiB\n",
      "22/03/07 13:57:34 WARN DAGScheduler: Broadcasting large task binary with size 1367.5 KiB\n",
      "22/03/07 13:57:34 WARN DAGScheduler: Broadcasting large task binary with size 1393.6 KiB\n",
      "22/03/07 13:57:34 WARN DAGScheduler: Broadcasting large task binary with size 1386.7 KiB\n",
      "22/03/07 13:57:34 WARN DAGScheduler: Broadcasting large task binary with size 1387.2 KiB\n",
      "22/03/07 13:57:34 WARN DAGScheduler: Broadcasting large task binary with size 1387.7 KiB\n",
      "22/03/07 13:57:34 WARN DAGScheduler: Broadcasting large task binary with size 1388.9 KiB\n",
      "22/03/07 13:57:34 WARN DAGScheduler: Broadcasting large task binary with size 1391.2 KiB\n",
      "22/03/07 13:57:34 WARN DAGScheduler: Broadcasting large task binary with size 1395.8 KiB\n",
      "22/03/07 13:57:34 WARN DAGScheduler: Broadcasting large task binary with size 1404.1 KiB\n",
      "22/03/07 13:57:34 WARN DAGScheduler: Broadcasting large task binary with size 1419.1 KiB\n",
      "22/03/07 13:57:35 WARN DAGScheduler: Broadcasting large task binary with size 1445.7 KiB\n",
      "22/03/07 13:57:35 WARN DAGScheduler: Broadcasting large task binary with size 1486.0 KiB\n",
      "22/03/07 13:57:35 WARN DAGScheduler: Broadcasting large task binary with size 1479.0 KiB\n",
      "22/03/07 13:57:35 WARN DAGScheduler: Broadcasting large task binary with size 1479.5 KiB\n",
      "22/03/07 13:57:35 WARN DAGScheduler: Broadcasting large task binary with size 1480.0 KiB\n",
      "22/03/07 13:57:35 WARN DAGScheduler: Broadcasting large task binary with size 1481.2 KiB\n",
      "22/03/07 13:57:35 WARN DAGScheduler: Broadcasting large task binary with size 1483.6 KiB\n",
      "22/03/07 13:57:35 WARN DAGScheduler: Broadcasting large task binary with size 1488.2 KiB\n",
      "22/03/07 13:57:35 WARN DAGScheduler: Broadcasting large task binary with size 1497.2 KiB\n",
      "22/03/07 13:57:35 WARN DAGScheduler: Broadcasting large task binary with size 1513.6 KiB\n",
      "22/03/07 13:57:35 WARN DAGScheduler: Broadcasting large task binary with size 1541.8 KiB\n",
      "22/03/07 13:57:35 WARN DAGScheduler: Broadcasting large task binary with size 1586.3 KiB\n",
      "22/03/07 13:57:52 WARN DAGScheduler: Broadcasting large task binary with size 1015.6 KiB\n",
      "22/03/07 13:57:52 WARN DAGScheduler: Broadcasting large task binary with size 1011.0 KiB\n",
      "22/03/07 13:57:53 WARN DAGScheduler: Broadcasting large task binary with size 1011.4 KiB\n",
      "22/03/07 13:57:53 WARN DAGScheduler: Broadcasting large task binary with size 1012.0 KiB\n",
      "22/03/07 13:57:53 WARN DAGScheduler: Broadcasting large task binary with size 1013.3 KiB\n",
      "22/03/07 13:57:53 WARN DAGScheduler: Broadcasting large task binary with size 1015.6 KiB\n",
      "22/03/07 13:57:53 WARN DAGScheduler: Broadcasting large task binary with size 1020.4 KiB\n",
      "22/03/07 13:57:53 WARN DAGScheduler: Broadcasting large task binary with size 1029.6 KiB\n",
      "22/03/07 13:57:53 WARN DAGScheduler: Broadcasting large task binary with size 1046.1 KiB\n",
      "22/03/07 13:57:53 WARN DAGScheduler: Broadcasting large task binary with size 1074.8 KiB\n",
      "22/03/07 13:57:53 WARN DAGScheduler: Broadcasting large task binary with size 1121.1 KiB\n",
      "22/03/07 13:57:53 WARN DAGScheduler: Broadcasting large task binary with size 1112.9 KiB\n",
      "22/03/07 13:57:53 WARN DAGScheduler: Broadcasting large task binary with size 1113.4 KiB\n",
      "22/03/07 13:57:53 WARN DAGScheduler: Broadcasting large task binary with size 1113.9 KiB\n",
      "22/03/07 13:57:53 WARN DAGScheduler: Broadcasting large task binary with size 1115.1 KiB\n",
      "22/03/07 13:57:53 WARN DAGScheduler: Broadcasting large task binary with size 1117.4 KiB\n",
      "22/03/07 13:57:53 WARN DAGScheduler: Broadcasting large task binary with size 1121.5 KiB\n",
      "22/03/07 13:57:53 WARN DAGScheduler: Broadcasting large task binary with size 1129.3 KiB\n",
      "22/03/07 13:57:53 WARN DAGScheduler: Broadcasting large task binary with size 1143.3 KiB\n",
      "22/03/07 13:57:53 WARN DAGScheduler: Broadcasting large task binary with size 1167.3 KiB\n",
      "22/03/07 13:57:53 WARN DAGScheduler: Broadcasting large task binary with size 1205.2 KiB\n",
      "22/03/07 13:57:54 WARN DAGScheduler: Broadcasting large task binary with size 1199.3 KiB\n",
      "22/03/07 13:57:54 WARN DAGScheduler: Broadcasting large task binary with size 1199.8 KiB\n",
      "22/03/07 13:57:54 WARN DAGScheduler: Broadcasting large task binary with size 1200.3 KiB\n",
      "22/03/07 13:57:54 WARN DAGScheduler: Broadcasting large task binary with size 1201.5 KiB\n",
      "22/03/07 13:57:54 WARN DAGScheduler: Broadcasting large task binary with size 1203.8 KiB\n",
      "22/03/07 13:57:54 WARN DAGScheduler: Broadcasting large task binary with size 1208.5 KiB\n",
      "22/03/07 13:57:54 WARN DAGScheduler: Broadcasting large task binary with size 1217.4 KiB\n",
      "22/03/07 13:57:54 WARN DAGScheduler: Broadcasting large task binary with size 1231.2 KiB\n",
      "22/03/07 13:57:54 WARN DAGScheduler: Broadcasting large task binary with size 1253.2 KiB\n",
      "22/03/07 13:57:54 WARN DAGScheduler: Broadcasting large task binary with size 1286.4 KiB\n",
      "22/03/07 13:57:54 WARN DAGScheduler: Broadcasting large task binary with size 1277.4 KiB\n",
      "22/03/07 13:57:54 WARN DAGScheduler: Broadcasting large task binary with size 1277.9 KiB\n",
      "22/03/07 13:57:54 WARN DAGScheduler: Broadcasting large task binary with size 1278.5 KiB\n",
      "22/03/07 13:57:54 WARN DAGScheduler: Broadcasting large task binary with size 1279.7 KiB\n",
      "22/03/07 13:57:54 WARN DAGScheduler: Broadcasting large task binary with size 1282.0 KiB\n",
      "22/03/07 13:57:54 WARN DAGScheduler: Broadcasting large task binary with size 1286.6 KiB\n",
      "22/03/07 13:57:54 WARN DAGScheduler: Broadcasting large task binary with size 1295.7 KiB\n",
      "22/03/07 13:57:54 WARN DAGScheduler: Broadcasting large task binary with size 1313.4 KiB\n",
      "22/03/07 13:57:55 WARN DAGScheduler: Broadcasting large task binary with size 1342.1 KiB\n",
      "22/03/07 13:57:55 WARN DAGScheduler: Broadcasting large task binary with size 1383.9 KiB\n",
      "22/03/07 13:57:55 WARN DAGScheduler: Broadcasting large task binary with size 1371.6 KiB\n",
      "22/03/07 13:57:55 WARN DAGScheduler: Broadcasting large task binary with size 1372.1 KiB\n",
      "22/03/07 13:57:55 WARN DAGScheduler: Broadcasting large task binary with size 1372.7 KiB\n",
      "22/03/07 13:57:55 WARN DAGScheduler: Broadcasting large task binary with size 1373.9 KiB\n",
      "22/03/07 13:57:55 WARN DAGScheduler: Broadcasting large task binary with size 1376.2 KiB\n",
      "22/03/07 13:57:55 WARN DAGScheduler: Broadcasting large task binary with size 1380.8 KiB\n",
      "22/03/07 13:57:55 WARN DAGScheduler: Broadcasting large task binary with size 1389.4 KiB\n",
      "22/03/07 13:57:55 WARN DAGScheduler: Broadcasting large task binary with size 1405.0 KiB\n",
      "22/03/07 13:57:55 WARN DAGScheduler: Broadcasting large task binary with size 1431.0 KiB\n",
      "22/03/07 13:57:55 WARN DAGScheduler: Broadcasting large task binary with size 1475.0 KiB\n",
      "22/03/07 13:57:55 WARN DAGScheduler: Broadcasting large task binary with size 1470.8 KiB\n",
      "22/03/07 13:57:55 WARN DAGScheduler: Broadcasting large task binary with size 1471.3 KiB\n",
      "22/03/07 13:57:55 WARN DAGScheduler: Broadcasting large task binary with size 1472.0 KiB\n",
      "22/03/07 13:57:55 WARN DAGScheduler: Broadcasting large task binary with size 1473.1 KiB\n",
      "22/03/07 13:57:55 WARN DAGScheduler: Broadcasting large task binary with size 1475.4 KiB\n",
      "22/03/07 13:57:55 WARN DAGScheduler: Broadcasting large task binary with size 1480.0 KiB\n",
      "22/03/07 13:57:56 WARN DAGScheduler: Broadcasting large task binary with size 1489.1 KiB\n",
      "22/03/07 13:57:56 WARN DAGScheduler: Broadcasting large task binary with size 1506.2 KiB\n",
      "22/03/07 13:57:56 WARN DAGScheduler: Broadcasting large task binary with size 1534.3 KiB\n",
      "22/03/07 13:57:56 WARN DAGScheduler: Broadcasting large task binary with size 1575.1 KiB\n",
      "22/03/07 13:57:56 WARN DAGScheduler: Broadcasting large task binary with size 1563.7 KiB\n",
      "22/03/07 13:57:56 WARN DAGScheduler: Broadcasting large task binary with size 1564.2 KiB\n",
      "22/03/07 13:57:56 WARN DAGScheduler: Broadcasting large task binary with size 1564.8 KiB\n",
      "22/03/07 13:57:56 WARN DAGScheduler: Broadcasting large task binary with size 1565.9 KiB\n",
      "22/03/07 13:57:56 WARN DAGScheduler: Broadcasting large task binary with size 1568.4 KiB\n",
      "22/03/07 13:57:56 WARN DAGScheduler: Broadcasting large task binary with size 1572.8 KiB\n",
      "22/03/07 13:57:56 WARN DAGScheduler: Broadcasting large task binary with size 1581.0 KiB\n",
      "22/03/07 13:57:56 WARN DAGScheduler: Broadcasting large task binary with size 1596.0 KiB\n",
      "22/03/07 13:57:56 WARN DAGScheduler: Broadcasting large task binary with size 1620.1 KiB\n",
      "22/03/07 13:57:56 WARN DAGScheduler: Broadcasting large task binary with size 1659.0 KiB\n",
      "22/03/07 13:57:56 WARN DAGScheduler: Broadcasting large task binary with size 1653.1 KiB\n",
      "22/03/07 13:57:56 WARN DAGScheduler: Broadcasting large task binary with size 1653.6 KiB\n",
      "22/03/07 13:57:57 WARN DAGScheduler: Broadcasting large task binary with size 1654.2 KiB\n",
      "22/03/07 13:57:57 WARN DAGScheduler: Broadcasting large task binary with size 1655.4 KiB\n",
      "22/03/07 13:57:57 WARN DAGScheduler: Broadcasting large task binary with size 1657.8 KiB\n",
      "22/03/07 13:57:57 WARN DAGScheduler: Broadcasting large task binary with size 1662.4 KiB\n",
      "22/03/07 13:57:57 WARN DAGScheduler: Broadcasting large task binary with size 1671.7 KiB\n",
      "22/03/07 13:57:57 WARN DAGScheduler: Broadcasting large task binary with size 1688.9 KiB\n",
      "22/03/07 13:57:57 WARN DAGScheduler: Broadcasting large task binary with size 1718.6 KiB\n",
      "22/03/07 13:57:57 WARN DAGScheduler: Broadcasting large task binary with size 1766.7 KiB\n",
      "22/03/07 13:57:57 WARN DAGScheduler: Broadcasting large task binary with size 1757.8 KiB\n",
      "22/03/07 13:57:57 WARN DAGScheduler: Broadcasting large task binary with size 1758.3 KiB\n",
      "22/03/07 13:57:57 WARN DAGScheduler: Broadcasting large task binary with size 1758.9 KiB\n",
      "22/03/07 13:57:57 WARN DAGScheduler: Broadcasting large task binary with size 1760.1 KiB\n",
      "22/03/07 13:57:57 WARN DAGScheduler: Broadcasting large task binary with size 1762.5 KiB\n",
      "22/03/07 13:57:57 WARN DAGScheduler: Broadcasting large task binary with size 1766.8 KiB\n",
      "22/03/07 13:57:57 WARN DAGScheduler: Broadcasting large task binary with size 1775.4 KiB\n",
      "22/03/07 13:57:58 WARN DAGScheduler: Broadcasting large task binary with size 1792.3 KiB\n",
      "22/03/07 13:57:58 WARN DAGScheduler: Broadcasting large task binary with size 1822.7 KiB\n",
      "22/03/07 13:57:58 WARN DAGScheduler: Broadcasting large task binary with size 1873.6 KiB\n",
      "22/03/07 13:57:58 WARN DAGScheduler: Broadcasting large task binary with size 1866.3 KiB\n",
      "22/03/07 13:57:58 WARN DAGScheduler: Broadcasting large task binary with size 1866.8 KiB\n",
      "22/03/07 13:57:58 WARN DAGScheduler: Broadcasting large task binary with size 1867.4 KiB\n",
      "22/03/07 13:57:58 WARN DAGScheduler: Broadcasting large task binary with size 1868.6 KiB\n",
      "22/03/07 13:57:58 WARN DAGScheduler: Broadcasting large task binary with size 1870.9 KiB\n",
      "22/03/07 13:57:58 WARN DAGScheduler: Broadcasting large task binary with size 1875.6 KiB\n",
      "22/03/07 13:57:58 WARN DAGScheduler: Broadcasting large task binary with size 1884.4 KiB\n",
      "22/03/07 13:57:58 WARN DAGScheduler: Broadcasting large task binary with size 1899.6 KiB\n",
      "22/03/07 13:57:58 WARN DAGScheduler: Broadcasting large task binary with size 1926.0 KiB\n",
      "22/03/07 13:57:58 WARN DAGScheduler: Broadcasting large task binary with size 1967.8 KiB\n",
      "22/03/07 13:57:58 WARN DAGScheduler: Broadcasting large task binary with size 1958.4 KiB\n",
      "22/03/07 13:57:59 WARN DAGScheduler: Broadcasting large task binary with size 1958.9 KiB\n",
      "22/03/07 13:57:59 WARN DAGScheduler: Broadcasting large task binary with size 1959.5 KiB\n",
      "22/03/07 13:57:59 WARN DAGScheduler: Broadcasting large task binary with size 1960.7 KiB\n",
      "22/03/07 13:57:59 WARN DAGScheduler: Broadcasting large task binary with size 1963.0 KiB\n",
      "22/03/07 13:57:59 WARN DAGScheduler: Broadcasting large task binary with size 1967.6 KiB\n",
      "22/03/07 13:57:59 WARN DAGScheduler: Broadcasting large task binary with size 1976.4 KiB\n",
      "22/03/07 13:57:59 WARN DAGScheduler: Broadcasting large task binary with size 1991.6 KiB\n",
      "22/03/07 13:57:59 WARN DAGScheduler: Broadcasting large task binary with size 2014.2 KiB\n",
      "22/03/07 13:57:59 WARN DAGScheduler: Broadcasting large task binary with size 2047.9 KiB\n",
      "22/03/07 13:58:05 WARN DAGScheduler: Broadcasting large task binary with size 1018.2 KiB\n",
      "22/03/07 13:58:05 WARN DAGScheduler: Broadcasting large task binary with size 1057.2 KiB\n",
      "22/03/07 13:58:05 WARN DAGScheduler: Broadcasting large task binary with size 1050.7 KiB\n",
      "22/03/07 13:58:05 WARN DAGScheduler: Broadcasting large task binary with size 1051.1 KiB\n",
      "22/03/07 13:58:05 WARN DAGScheduler: Broadcasting large task binary with size 1051.7 KiB\n",
      "22/03/07 13:58:05 WARN DAGScheduler: Broadcasting large task binary with size 1052.9 KiB\n",
      "22/03/07 13:58:05 WARN DAGScheduler: Broadcasting large task binary with size 1055.2 KiB\n",
      "22/03/07 13:58:05 WARN DAGScheduler: Broadcasting large task binary with size 1059.7 KiB\n",
      "22/03/07 13:58:05 WARN DAGScheduler: Broadcasting large task binary with size 1068.5 KiB\n",
      "22/03/07 13:58:05 WARN DAGScheduler: Broadcasting large task binary with size 1083.0 KiB\n",
      "22/03/07 13:58:05 WARN DAGScheduler: Broadcasting large task binary with size 1102.6 KiB\n",
      "22/03/07 13:58:05 WARN DAGScheduler: Broadcasting large task binary with size 1128.8 KiB\n",
      "22/03/07 13:58:05 WARN DAGScheduler: Broadcasting large task binary with size 1118.0 KiB\n",
      "22/03/07 13:58:05 WARN DAGScheduler: Broadcasting large task binary with size 1118.5 KiB\n",
      "22/03/07 13:58:06 WARN DAGScheduler: Broadcasting large task binary with size 1119.1 KiB\n",
      "22/03/07 13:58:06 WARN DAGScheduler: Broadcasting large task binary with size 1120.2 KiB\n",
      "22/03/07 13:58:06 WARN DAGScheduler: Broadcasting large task binary with size 1122.6 KiB\n",
      "22/03/07 13:58:06 WARN DAGScheduler: Broadcasting large task binary with size 1127.2 KiB\n",
      "22/03/07 13:58:06 WARN DAGScheduler: Broadcasting large task binary with size 1135.5 KiB\n",
      "22/03/07 13:58:06 WARN DAGScheduler: Broadcasting large task binary with size 1149.9 KiB\n",
      "22/03/07 13:58:06 WARN DAGScheduler: Broadcasting large task binary with size 1171.8 KiB\n",
      "22/03/07 13:58:06 WARN DAGScheduler: Broadcasting large task binary with size 1204.4 KiB\n",
      "22/03/07 13:58:06 WARN DAGScheduler: Broadcasting large task binary with size 1195.9 KiB\n",
      "22/03/07 13:58:06 WARN DAGScheduler: Broadcasting large task binary with size 1196.4 KiB\n",
      "22/03/07 13:58:06 WARN DAGScheduler: Broadcasting large task binary with size 1196.9 KiB\n",
      "22/03/07 13:58:06 WARN DAGScheduler: Broadcasting large task binary with size 1198.1 KiB\n",
      "22/03/07 13:58:06 WARN DAGScheduler: Broadcasting large task binary with size 1200.5 KiB\n",
      "22/03/07 13:58:06 WARN DAGScheduler: Broadcasting large task binary with size 1205.0 KiB\n",
      "22/03/07 13:58:06 WARN DAGScheduler: Broadcasting large task binary with size 1213.8 KiB\n",
      "22/03/07 13:58:06 WARN DAGScheduler: Broadcasting large task binary with size 1229.5 KiB\n",
      "22/03/07 13:58:06 WARN DAGScheduler: Broadcasting large task binary with size 1255.4 KiB\n",
      "22/03/07 13:58:06 WARN DAGScheduler: Broadcasting large task binary with size 1294.1 KiB\n",
      "22/03/07 13:58:07 WARN DAGScheduler: Broadcasting large task binary with size 1283.5 KiB\n",
      "22/03/07 13:58:07 WARN DAGScheduler: Broadcasting large task binary with size 1284.0 KiB\n",
      "22/03/07 13:58:07 WARN DAGScheduler: Broadcasting large task binary with size 1284.6 KiB\n",
      "22/03/07 13:58:07 WARN DAGScheduler: Broadcasting large task binary with size 1285.7 KiB\n",
      "22/03/07 13:58:07 WARN DAGScheduler: Broadcasting large task binary with size 1288.1 KiB\n",
      "22/03/07 13:58:07 WARN DAGScheduler: Broadcasting large task binary with size 1292.7 KiB\n",
      "22/03/07 13:58:07 WARN DAGScheduler: Broadcasting large task binary with size 1300.7 KiB\n",
      "22/03/07 13:58:07 WARN DAGScheduler: Broadcasting large task binary with size 1315.9 KiB\n",
      "22/03/07 13:58:07 WARN DAGScheduler: Broadcasting large task binary with size 1340.3 KiB\n",
      "22/03/07 13:58:07 WARN DAGScheduler: Broadcasting large task binary with size 1374.6 KiB\n",
      "22/03/07 13:58:07 WARN DAGScheduler: Broadcasting large task binary with size 1365.8 KiB\n",
      "22/03/07 13:58:07 WARN DAGScheduler: Broadcasting large task binary with size 1366.3 KiB\n",
      "22/03/07 13:58:07 WARN DAGScheduler: Broadcasting large task binary with size 1366.9 KiB\n",
      "22/03/07 13:58:07 WARN DAGScheduler: Broadcasting large task binary with size 1368.1 KiB\n",
      "22/03/07 13:58:07 WARN DAGScheduler: Broadcasting large task binary with size 1370.4 KiB\n",
      "22/03/07 13:58:07 WARN DAGScheduler: Broadcasting large task binary with size 1374.9 KiB\n",
      "22/03/07 13:58:07 WARN DAGScheduler: Broadcasting large task binary with size 1383.5 KiB\n",
      "22/03/07 13:58:07 WARN DAGScheduler: Broadcasting large task binary with size 1399.1 KiB\n",
      "22/03/07 13:58:08 WARN DAGScheduler: Broadcasting large task binary with size 1423.6 KiB\n",
      "22/03/07 13:58:08 WARN DAGScheduler: Broadcasting large task binary with size 1460.2 KiB\n",
      "22/03/07 13:58:08 WARN DAGScheduler: Broadcasting large task binary with size 1449.2 KiB\n",
      "22/03/07 13:58:08 WARN DAGScheduler: Broadcasting large task binary with size 1449.7 KiB\n",
      "22/03/07 13:58:08 WARN DAGScheduler: Broadcasting large task binary with size 1450.3 KiB\n",
      "22/03/07 13:58:08 WARN DAGScheduler: Broadcasting large task binary with size 1451.4 KiB\n",
      "22/03/07 13:58:08 WARN DAGScheduler: Broadcasting large task binary with size 1453.9 KiB\n",
      "22/03/07 13:58:08 WARN DAGScheduler: Broadcasting large task binary with size 1458.5 KiB\n",
      "22/03/07 13:58:08 WARN DAGScheduler: Broadcasting large task binary with size 1466.7 KiB\n",
      "22/03/07 13:58:08 WARN DAGScheduler: Broadcasting large task binary with size 1480.6 KiB\n",
      "22/03/07 13:58:08 WARN DAGScheduler: Broadcasting large task binary with size 1503.4 KiB\n",
      "22/03/07 13:58:08 WARN DAGScheduler: Broadcasting large task binary with size 1536.5 KiB\n",
      "22/03/07 13:58:13 WARN DAGScheduler: Broadcasting large task binary with size 1011.9 KiB\n",
      "22/03/07 13:58:13 WARN DAGScheduler: Broadcasting large task binary with size 1007.2 KiB\n",
      "22/03/07 13:58:13 WARN DAGScheduler: Broadcasting large task binary with size 1007.7 KiB\n",
      "22/03/07 13:58:13 WARN DAGScheduler: Broadcasting large task binary with size 1008.2 KiB\n",
      "22/03/07 13:58:13 WARN DAGScheduler: Broadcasting large task binary with size 1009.4 KiB\n",
      "22/03/07 13:58:13 WARN DAGScheduler: Broadcasting large task binary with size 1011.7 KiB\n",
      "22/03/07 13:58:14 WARN DAGScheduler: Broadcasting large task binary with size 1016.3 KiB\n",
      "22/03/07 13:58:14 WARN DAGScheduler: Broadcasting large task binary with size 1024.6 KiB\n",
      "22/03/07 13:58:14 WARN DAGScheduler: Broadcasting large task binary with size 1038.5 KiB\n",
      "22/03/07 13:58:14 WARN DAGScheduler: Broadcasting large task binary with size 1060.8 KiB\n",
      "22/03/07 13:58:14 WARN DAGScheduler: Broadcasting large task binary with size 1096.3 KiB\n",
      "22/03/07 13:58:14 WARN DAGScheduler: Broadcasting large task binary with size 1090.5 KiB\n",
      "22/03/07 13:58:14 WARN DAGScheduler: Broadcasting large task binary with size 1091.0 KiB\n",
      "22/03/07 13:58:14 WARN DAGScheduler: Broadcasting large task binary with size 1091.6 KiB\n",
      "22/03/07 13:58:14 WARN DAGScheduler: Broadcasting large task binary with size 1092.7 KiB\n",
      "22/03/07 13:58:14 WARN DAGScheduler: Broadcasting large task binary with size 1095.0 KiB\n",
      "22/03/07 13:58:14 WARN DAGScheduler: Broadcasting large task binary with size 1099.2 KiB\n",
      "22/03/07 13:58:14 WARN DAGScheduler: Broadcasting large task binary with size 1106.8 KiB\n",
      "22/03/07 13:58:14 WARN DAGScheduler: Broadcasting large task binary with size 1119.7 KiB\n",
      "22/03/07 13:58:14 WARN DAGScheduler: Broadcasting large task binary with size 1139.9 KiB\n",
      "22/03/07 13:58:14 WARN DAGScheduler: Broadcasting large task binary with size 1169.8 KiB\n",
      "22/03/07 13:58:14 WARN DAGScheduler: Broadcasting large task binary with size 1163.0 KiB\n",
      "22/03/07 13:58:14 WARN DAGScheduler: Broadcasting large task binary with size 1163.5 KiB\n",
      "22/03/07 13:58:14 WARN DAGScheduler: Broadcasting large task binary with size 1164.0 KiB\n",
      "22/03/07 13:58:14 WARN DAGScheduler: Broadcasting large task binary with size 1165.2 KiB\n",
      "22/03/07 13:58:15 WARN DAGScheduler: Broadcasting large task binary with size 1167.2 KiB\n",
      "22/03/07 13:58:15 WARN DAGScheduler: Broadcasting large task binary with size 1171.4 KiB\n",
      "22/03/07 13:58:15 WARN DAGScheduler: Broadcasting large task binary with size 1179.1 KiB\n",
      "22/03/07 13:58:15 WARN DAGScheduler: Broadcasting large task binary with size 1192.2 KiB\n",
      "22/03/07 13:58:15 WARN DAGScheduler: Broadcasting large task binary with size 1212.9 KiB\n",
      "22/03/07 13:58:15 WARN DAGScheduler: Broadcasting large task binary with size 1241.2 KiB\n",
      "22/03/07 13:58:15 WARN DAGScheduler: Broadcasting large task binary with size 1231.7 KiB\n",
      "22/03/07 13:58:15 WARN DAGScheduler: Broadcasting large task binary with size 1232.2 KiB\n",
      "22/03/07 13:58:15 WARN DAGScheduler: Broadcasting large task binary with size 1232.8 KiB\n",
      "22/03/07 13:58:15 WARN DAGScheduler: Broadcasting large task binary with size 1233.9 KiB\n",
      "22/03/07 13:58:15 WARN DAGScheduler: Broadcasting large task binary with size 1236.3 KiB\n",
      "22/03/07 13:58:15 WARN DAGScheduler: Broadcasting large task binary with size 1240.8 KiB\n",
      "22/03/07 13:58:15 WARN DAGScheduler: Broadcasting large task binary with size 1249.2 KiB\n",
      "22/03/07 13:58:15 WARN DAGScheduler: Broadcasting large task binary with size 1265.1 KiB\n",
      "22/03/07 13:58:15 WARN DAGScheduler: Broadcasting large task binary with size 1292.3 KiB\n",
      "22/03/07 13:58:15 WARN DAGScheduler: Broadcasting large task binary with size 1334.5 KiB\n",
      "22/03/07 13:58:15 WARN DAGScheduler: Broadcasting large task binary with size 1326.0 KiB\n",
      "22/03/07 13:58:16 WARN DAGScheduler: Broadcasting large task binary with size 1326.5 KiB\n",
      "22/03/07 13:58:16 WARN DAGScheduler: Broadcasting large task binary with size 1327.1 KiB\n",
      "22/03/07 13:58:16 WARN DAGScheduler: Broadcasting large task binary with size 1328.2 KiB\n",
      "22/03/07 13:58:16 WARN DAGScheduler: Broadcasting large task binary with size 1330.6 KiB\n",
      "22/03/07 13:58:16 WARN DAGScheduler: Broadcasting large task binary with size 1335.2 KiB\n",
      "22/03/07 13:58:16 WARN DAGScheduler: Broadcasting large task binary with size 1343.5 KiB\n",
      "22/03/07 13:58:16 WARN DAGScheduler: Broadcasting large task binary with size 1358.0 KiB\n",
      "22/03/07 13:58:16 WARN DAGScheduler: Broadcasting large task binary with size 1380.5 KiB\n",
      "22/03/07 13:58:16 WARN DAGScheduler: Broadcasting large task binary with size 1412.6 KiB\n",
      "22/03/07 13:58:16 WARN DAGScheduler: Broadcasting large task binary with size 1403.2 KiB\n",
      "22/03/07 13:58:16 WARN DAGScheduler: Broadcasting large task binary with size 1403.6 KiB\n",
      "22/03/07 13:58:16 WARN DAGScheduler: Broadcasting large task binary with size 1404.2 KiB\n",
      "22/03/07 13:58:16 WARN DAGScheduler: Broadcasting large task binary with size 1405.4 KiB\n",
      "22/03/07 13:58:16 WARN DAGScheduler: Broadcasting large task binary with size 1407.7 KiB\n",
      "22/03/07 13:58:16 WARN DAGScheduler: Broadcasting large task binary with size 1412.3 KiB\n",
      "22/03/07 13:58:16 WARN DAGScheduler: Broadcasting large task binary with size 1421.1 KiB\n",
      "22/03/07 13:58:16 WARN DAGScheduler: Broadcasting large task binary with size 1436.2 KiB\n",
      "22/03/07 13:58:17 WARN DAGScheduler: Broadcasting large task binary with size 1459.3 KiB\n",
      "22/03/07 13:58:17 WARN DAGScheduler: Broadcasting large task binary with size 1492.1 KiB\n",
      "22/03/07 13:58:17 WARN DAGScheduler: Broadcasting large task binary with size 1479.5 KiB\n",
      "22/03/07 13:58:17 WARN DAGScheduler: Broadcasting large task binary with size 1479.9 KiB\n",
      "22/03/07 13:58:17 WARN DAGScheduler: Broadcasting large task binary with size 1480.5 KiB\n",
      "22/03/07 13:58:17 WARN DAGScheduler: Broadcasting large task binary with size 1481.7 KiB\n",
      "22/03/07 13:58:17 WARN DAGScheduler: Broadcasting large task binary with size 1484.0 KiB\n",
      "22/03/07 13:58:17 WARN DAGScheduler: Broadcasting large task binary with size 1487.9 KiB\n",
      "22/03/07 13:58:17 WARN DAGScheduler: Broadcasting large task binary with size 1495.0 KiB\n",
      "22/03/07 13:58:17 WARN DAGScheduler: Broadcasting large task binary with size 1508.0 KiB\n",
      "22/03/07 13:58:17 WARN DAGScheduler: Broadcasting large task binary with size 1528.5 KiB\n",
      "22/03/07 13:58:17 WARN DAGScheduler: Broadcasting large task binary with size 1559.1 KiB\n",
      "22/03/07 13:58:17 WARN DAGScheduler: Broadcasting large task binary with size 1551.5 KiB\n",
      "22/03/07 13:58:17 WARN DAGScheduler: Broadcasting large task binary with size 1552.0 KiB\n",
      "22/03/07 13:58:18 WARN DAGScheduler: Broadcasting large task binary with size 1552.5 KiB\n",
      "22/03/07 13:58:18 WARN DAGScheduler: Broadcasting large task binary with size 1553.7 KiB\n",
      "22/03/07 13:58:18 WARN DAGScheduler: Broadcasting large task binary with size 1556.1 KiB\n",
      "22/03/07 13:58:18 WARN DAGScheduler: Broadcasting large task binary with size 1560.4 KiB\n",
      "22/03/07 13:58:18 WARN DAGScheduler: Broadcasting large task binary with size 1568.1 KiB\n",
      "22/03/07 13:58:18 WARN DAGScheduler: Broadcasting large task binary with size 1579.8 KiB\n",
      "22/03/07 13:58:18 WARN DAGScheduler: Broadcasting large task binary with size 1598.4 KiB\n",
      "22/03/07 13:58:18 WARN DAGScheduler: Broadcasting large task binary with size 1626.8 KiB\n"
     ]
    },
    {
     "name": "stdout",
     "output_type": "stream",
     "text": [
      "rmse of the model is = 8565.56149552303\n",
      "+--------------+---------------------+\n",
      "|features      |score                |\n",
      "+--------------+---------------------+\n",
      "|population    |9.745763291273039E-4 |\n",
      "|total_bedrooms|8.561848096959523E-4 |\n",
      "|households    |7.863301963319607E-4 |\n",
      "|median_income |4.8667166524541425E-4|\n",
      "+--------------+---------------------+\n",
      "\n",
      "None\n"
     ]
    }
   ],
   "source": [
    "\n",
    "gbt = GBTRegressor(\n",
    "    labelCol='label',\n",
    "    featuresCol='features',\n",
    "    seed=42)\n",
    "\n",
    "\n",
    "paramGrid = (ParamGridBuilder()\\\n",
    "             .addGrid(gbt.maxDepth, [ 2, 5, 10])\n",
    "             .addGrid(gbt.maxBins, [5, 10, 20])\n",
    "             .build()\n",
    ")\n",
    "evaluator = RegressionEvaluator(metricName='rmse')\n",
    "\n",
    "crossval = CrossValidator(\n",
    "    estimator=gbt,\n",
    "    estimatorParamMaps=paramGrid,\n",
    "    evaluator=evaluator,\n",
    "    numFolds=2)\n",
    "\n",
    "fitModel = crossval.fit(train)\n",
    "\n",
    "# best model\n",
    "gbt_best_model = fitModel.bestModel\n",
    "\n",
    "# feature importannce\n",
    "\n",
    "gbt_fi = gbt_best_model.featureImportances.toArray()\n",
    "\n",
    "imp_scores = []\n",
    "imp_scores = [float(i) for i in gbt_fi]\n",
    "\n",
    "fi_result = spark.createDataFrame(zip(\n",
    "                        input_columns, imp_scores),\n",
    "                        schema=['features', 'score'])\n",
    "# predictions \n",
    "predictions = fitModel.transform(test)\n",
    "rmse = evaluator.evaluate(predictions)\n",
    "print(f'rmse of the model is = {rmse}')\n",
    "\n",
    "print(fi_result.orderBy(\n",
    "    fi_result['score'].desc()\n",
    "    ).show(truncate=False))"
   ]
  },
  {
   "cell_type": "code",
   "execution_count": 124,
   "metadata": {},
   "outputs": [
    {
     "name": "stdout",
     "output_type": "stream",
     "text": [
      " best maximum depth = 5\n"
     ]
    }
   ],
   "source": [
    "print(f' best maximum depth = {gbt_best_model.getOrDefault(\"maxDepth\")}')"
   ]
  },
  {
   "cell_type": "code",
   "execution_count": 125,
   "metadata": {},
   "outputs": [
    {
     "name": "stdout",
     "output_type": "stream",
     "text": [
      "best number of trees is = 20\n"
     ]
    }
   ],
   "source": [
    "print(f'best number of trees is = {gbt_best_model.getNumTrees}')"
   ]
  },
  {
   "cell_type": "code",
   "execution_count": null,
   "metadata": {},
   "outputs": [],
   "source": []
  },
  {
   "cell_type": "code",
   "execution_count": 105,
   "metadata": {},
   "outputs": [
    {
     "name": "stdout",
     "output_type": "stream",
     "text": [
      "+--------------------+--------+------------------+\n",
      "|            features|   label|        prediction|\n",
      "+--------------------+--------+------------------+\n",
      "|[-124.3,41.8,19.0...| 85800.0| 89245.58589956215|\n",
      "|[-124.27,40.69,36...| 79000.0| 74977.22023208543|\n",
      "|[-124.26,40.58,52...|111400.0|114588.03692938644|\n",
      "|[-124.23,41.75,11...| 73200.0| 75104.87605910233|\n",
      "|[-124.22,41.73,28...| 78300.0|   74822.556430902|\n",
      "|[-124.19,40.78,37...| 70000.0| 74786.26652608546|\n",
      "|[-124.19,41.78,15...| 74600.0| 74803.75520070258|\n",
      "|[-124.17,40.76,26...| 82800.0|   89010.862480897|\n",
      "|[-124.17,40.79,43...| 70500.0| 74977.22023208543|\n",
      "|[-124.17,40.8,52....| 60000.0| 57024.32338034982|\n",
      "|[-124.17,40.8,52....| 62500.0| 56258.33830825579|\n",
      "|[-124.17,40.8,52....| 75500.0| 74950.49663294357|\n",
      "|[-124.16,40.78,43...| 82000.0|  75069.5652204469|\n",
      "|[-124.16,40.78,46...| 81800.0|  74856.7745018888|\n",
      "|[-124.16,40.79,46...| 90600.0| 89019.12946880804|\n",
      "|[-124.16,40.8,52....| 74700.0| 75862.33325569314|\n",
      "|[-124.16,41.74,15...| 69500.0| 75104.87605910233|\n",
      "|[-124.16,41.92,19...| 75000.0| 74922.79600508774|\n",
      "|[-124.15,40.78,41...|104200.0|100801.20233621944|\n",
      "|[-124.15,40.8,47....| 74100.0| 74744.58253947404|\n",
      "+--------------------+--------+------------------+\n",
      "only showing top 20 rows\n",
      "\n"
     ]
    }
   ],
   "source": [
    "predictions = gbt_best_model.transform(test)\n",
    "predictions.show()"
   ]
  },
  {
   "cell_type": "code",
   "execution_count": 107,
   "metadata": {},
   "outputs": [
    {
     "name": "stdout",
     "output_type": "stream",
     "text": [
      "+--------------------+--------+-----------------+\n",
      "|            features|   label|       prediction|\n",
      "+--------------------+--------+-----------------+\n",
      "|[-124.3,41.8,19.0...| 85800.0|85305.56191469732|\n",
      "|[-124.27,40.69,36...| 79000.0|79332.47799395457|\n",
      "|[-124.26,40.58,52...|111400.0|110895.4056477639|\n",
      "|[-124.23,41.75,11...| 73200.0|76714.89970274208|\n",
      "|[-124.22,41.73,28...| 78300.0|72708.92613653684|\n",
      "|[-124.19,40.78,37...| 70000.0|72176.22708417095|\n",
      "|[-124.19,41.78,15...| 74600.0|72054.31502542573|\n",
      "|[-124.17,40.76,26...| 82800.0|91599.55932136692|\n",
      "|[-124.17,40.79,43...| 70500.0| 75025.0417116134|\n",
      "|[-124.17,40.8,52....| 60000.0|68562.49779809409|\n",
      "|[-124.17,40.8,52....| 62500.0|68500.47398857027|\n",
      "|[-124.17,40.8,52....| 75500.0|73934.66702796372|\n",
      "|[-124.16,40.78,43...| 82000.0|82458.94922833475|\n",
      "|[-124.16,40.78,46...| 81800.0| 88228.6281053954|\n",
      "|[-124.16,40.79,46...| 90600.0|85334.18361294983|\n",
      "|[-124.16,40.8,52....| 74700.0|73595.59329891499|\n",
      "|[-124.16,41.74,15...| 69500.0| 74769.3558485407|\n",
      "|[-124.16,41.92,19...| 75000.0|71406.64881998062|\n",
      "|[-124.15,40.78,41...|104200.0|99928.51791113606|\n",
      "|[-124.15,40.8,47....| 74100.0|73706.68407341826|\n",
      "+--------------------+--------+-----------------+\n",
      "only showing top 20 rows\n",
      "\n"
     ]
    }
   ],
   "source": [
    "predictions_rf = rf_best_model.transform(\n",
    "    test\n",
    ")\n",
    "predictions_rf.show()\n",
    "\n",
    "\n",
    "\n",
    "\n"
   ]
  },
  {
   "cell_type": "code",
   "execution_count": 118,
   "metadata": {},
   "outputs": [
    {
     "data": {
      "image/png": "[encoded data removed]",
      "text/plain": [
       "<Figure size 432x288 with 1 Axes>"
      ]
     },
     "metadata": {
      "needs_background": "light"
     },
     "output_type": "display_data"
    }
   ],
   "source": [
    "plt.plot(predictions_rf.toPandas()['prediction'].iloc[0:100],\n",
    "         label='random forest prediction')\n",
    "plt.plot(\n",
    "    predictions_rf.toPandas()['label'].iloc[0:100],\n",
    "            label='actual label')\n",
    "#plt.plot(predictions.toPandas()['prediction'].iloc[0:100],\n",
    "          #label='gradient boosted trees prediction')\n",
    "plt.legend();"
   ]
  },
  {
   "cell_type": "code",
   "execution_count": 119,
   "metadata": {},
   "outputs": [
    {
     "data": {
      "image/png": "[encoded data removed]",
      "text/plain": [
       "<Figure size 432x288 with 1 Axes>"
      ]
     },
     "metadata": {
      "needs_background": "light"
     },
     "output_type": "display_data"
    }
   ],
   "source": [
    "# plt.plot(predictions_rf.toPandas()['prediction'].iloc[0:100],\n",
    "         #label='random forest prediction')\n",
    "plt.plot(\n",
    "    predictions_rf.toPandas()['label'].iloc[0:100],\n",
    "            label='actual label')\n",
    "plt.plot(predictions.toPandas()['prediction'].iloc[0:100],\n",
    "          label='gradient boosted trees prediction')\n",
    "plt.legend();"
   ]
  },
  {
   "cell_type": "code",
   "execution_count": 120,
   "metadata": {},
   "outputs": [
    {
     "name": "stderr",
     "output_type": "stream",
     "text": [
      "22/03/07 14:09:07 WARN MemoryManager: Total allocation exceeds 95.00% (1,020,054,720 bytes) of heap memory\n",
      "Scaling row group sizes to 95.00% for 8 writers\n",
      "22/03/07 14:09:07 WARN MemoryManager: Total allocation exceeds 95.00% (1,020,054,720 bytes) of heap memory\n",
      "Scaling row group sizes to 84.44% for 9 writers\n",
      "22/03/07 14:09:07 WARN MemoryManager: Total allocation exceeds 95.00% (1,020,054,720 bytes) of heap memory\n",
      "Scaling row group sizes to 76.00% for 10 writers\n",
      "22/03/07 14:09:07 WARN MemoryManager: Total allocation exceeds 95.00% (1,020,054,720 bytes) of heap memory\n",
      "Scaling row group sizes to 69.09% for 11 writers\n",
      "22/03/07 14:09:07 WARN MemoryManager: Total allocation exceeds 95.00% (1,020,054,720 bytes) of heap memory\n",
      "Scaling row group sizes to 63.33% for 12 writers\n",
      "22/03/07 14:09:07 WARN MemoryManager: Total allocation exceeds 95.00% (1,020,054,720 bytes) of heap memory\n",
      "Scaling row group sizes to 58.46% for 13 writers\n",
      "22/03/07 14:09:07 WARN MemoryManager: Total allocation exceeds 95.00% (1,020,054,720 bytes) of heap memory\n",
      "Scaling row group sizes to 54.29% for 14 writers\n",
      "22/03/07 14:09:07 WARN MemoryManager: Total allocation exceeds 95.00% (1,020,054,720 bytes) of heap memory\n",
      "Scaling row group sizes to 50.67% for 15 writers\n",
      "22/03/07 14:09:07 WARN MemoryManager: Total allocation exceeds 95.00% (1,020,054,720 bytes) of heap memory\n",
      "Scaling row group sizes to 47.50% for 16 writers\n",
      "22/03/07 14:09:07 WARN MemoryManager: Total allocation exceeds 95.00% (1,020,054,720 bytes) of heap memory\n",
      "Scaling row group sizes to 44.71% for 17 writers\n",
      "22/03/07 14:09:07 WARN MemoryManager: Total allocation exceeds 95.00% (1,020,054,720 bytes) of heap memory\n",
      "Scaling row group sizes to 42.22% for 18 writers\n",
      "22/03/07 14:09:07 WARN MemoryManager: Total allocation exceeds 95.00% (1,020,054,720 bytes) of heap memory\n",
      "Scaling row group sizes to 40.00% for 19 writers\n",
      "22/03/07 14:09:07 WARN MemoryManager: Total allocation exceeds 95.00% (1,020,054,720 bytes) of heap memory\n",
      "Scaling row group sizes to 38.00% for 20 writers\n",
      "22/03/07 14:09:07 WARN MemoryManager: Total allocation exceeds 95.00% (1,020,054,720 bytes) of heap memory\n",
      "Scaling row group sizes to 40.00% for 19 writers\n",
      "22/03/07 14:09:07 WARN MemoryManager: Total allocation exceeds 95.00% (1,020,054,720 bytes) of heap memory\n",
      "Scaling row group sizes to 42.22% for 18 writers\n",
      "22/03/07 14:09:07 WARN MemoryManager: Total allocation exceeds 95.00% (1,020,054,720 bytes) of heap memory\n",
      "Scaling row group sizes to 44.71% for 17 writers\n",
      "22/03/07 14:09:07 WARN MemoryManager: Total allocation exceeds 95.00% (1,020,054,720 bytes) of heap memory\n",
      "Scaling row group sizes to 47.50% for 16 writers\n",
      "22/03/07 14:09:07 WARN MemoryManager: Total allocation exceeds 95.00% (1,020,054,720 bytes) of heap memory\n",
      "Scaling row group sizes to 50.67% for 15 writers\n",
      "22/03/07 14:09:07 WARN MemoryManager: Total allocation exceeds 95.00% (1,020,054,720 bytes) of heap memory\n",
      "Scaling row group sizes to 54.29% for 14 writers\n",
      "22/03/07 14:09:07 WARN MemoryManager: Total allocation exceeds 95.00% (1,020,054,720 bytes) of heap memory\n",
      "Scaling row group sizes to 58.46% for 13 writers\n",
      "22/03/07 14:09:07 WARN MemoryManager: Total allocation exceeds 95.00% (1,020,054,720 bytes) of heap memory\n",
      "Scaling row group sizes to 63.33% for 12 writers\n",
      "22/03/07 14:09:07 WARN MemoryManager: Total allocation exceeds 95.00% (1,020,054,720 bytes) of heap memory\n",
      "Scaling row group sizes to 69.09% for 11 writers\n",
      "22/03/07 14:09:07 WARN MemoryManager: Total allocation exceeds 95.00% (1,020,054,720 bytes) of heap memory\n",
      "Scaling row group sizes to 76.00% for 10 writers\n",
      "22/03/07 14:09:07 WARN MemoryManager: Total allocation exceeds 95.00% (1,020,054,720 bytes) of heap memory\n",
      "Scaling row group sizes to 84.44% for 9 writers\n",
      "22/03/07 14:09:07 WARN MemoryManager: Total allocation exceeds 95.00% (1,020,054,720 bytes) of heap memory\n",
      "Scaling row group sizes to 95.00% for 8 writers\n",
      "22/03/07 14:09:07 WARN MemoryManager: Total allocation exceeds 95.00% (1,020,054,720 bytes) of heap memory\n",
      "Scaling row group sizes to 95.00% for 8 writers\n",
      "22/03/07 14:09:07 WARN MemoryManager: Total allocation exceeds 95.00% (1,020,054,720 bytes) of heap memory\n",
      "Scaling row group sizes to 84.44% for 9 writers\n",
      "22/03/07 14:09:07 WARN MemoryManager: Total allocation exceeds 95.00% (1,020,054,720 bytes) of heap memory\n",
      "Scaling row group sizes to 76.00% for 10 writers\n",
      "22/03/07 14:09:07 WARN MemoryManager: Total allocation exceeds 95.00% (1,020,054,720 bytes) of heap memory\n",
      "Scaling row group sizes to 69.09% for 11 writers\n",
      "22/03/07 14:09:07 WARN MemoryManager: Total allocation exceeds 95.00% (1,020,054,720 bytes) of heap memory\n",
      "Scaling row group sizes to 63.33% for 12 writers\n",
      "22/03/07 14:09:07 WARN MemoryManager: Total allocation exceeds 95.00% (1,020,054,720 bytes) of heap memory\n",
      "Scaling row group sizes to 58.46% for 13 writers\n",
      "22/03/07 14:09:07 WARN MemoryManager: Total allocation exceeds 95.00% (1,020,054,720 bytes) of heap memory\n",
      "Scaling row group sizes to 54.29% for 14 writers\n",
      "22/03/07 14:09:07 WARN MemoryManager: Total allocation exceeds 95.00% (1,020,054,720 bytes) of heap memory\n",
      "Scaling row group sizes to 50.67% for 15 writers\n",
      "22/03/07 14:09:07 WARN MemoryManager: Total allocation exceeds 95.00% (1,020,054,720 bytes) of heap memory\n",
      "Scaling row group sizes to 47.50% for 16 writers\n",
      "22/03/07 14:09:07 WARN MemoryManager: Total allocation exceeds 95.00% (1,020,054,720 bytes) of heap memory\n",
      "Scaling row group sizes to 44.71% for 17 writers\n",
      "22/03/07 14:09:07 WARN MemoryManager: Total allocation exceeds 95.00% (1,020,054,720 bytes) of heap memory\n",
      "Scaling row group sizes to 42.22% for 18 writers\n",
      "22/03/07 14:09:07 WARN MemoryManager: Total allocation exceeds 95.00% (1,020,054,720 bytes) of heap memory\n",
      "Scaling row group sizes to 40.00% for 19 writers\n",
      "22/03/07 14:09:07 WARN MemoryManager: Total allocation exceeds 95.00% (1,020,054,720 bytes) of heap memory\n",
      "Scaling row group sizes to 38.00% for 20 writers\n",
      "22/03/07 14:09:07 WARN MemoryManager: Total allocation exceeds 95.00% (1,020,054,720 bytes) of heap memory\n",
      "Scaling row group sizes to 40.00% for 19 writers\n",
      "22/03/07 14:09:07 WARN MemoryManager: Total allocation exceeds 95.00% (1,020,054,720 bytes) of heap memory\n",
      "Scaling row group sizes to 42.22% for 18 writers\n",
      "22/03/07 14:09:07 WARN MemoryManager: Total allocation exceeds 95.00% (1,020,054,720 bytes) of heap memory\n",
      "Scaling row group sizes to 44.71% for 17 writers\n",
      "22/03/07 14:09:07 WARN MemoryManager: Total allocation exceeds 95.00% (1,020,054,720 bytes) of heap memory\n",
      "Scaling row group sizes to 47.50% for 16 writers\n",
      "22/03/07 14:09:07 WARN MemoryManager: Total allocation exceeds 95.00% (1,020,054,720 bytes) of heap memory\n",
      "Scaling row group sizes to 50.67% for 15 writers\n",
      "22/03/07 14:09:07 WARN MemoryManager: Total allocation exceeds 95.00% (1,020,054,720 bytes) of heap memory\n",
      "Scaling row group sizes to 54.29% for 14 writers\n",
      "22/03/07 14:09:07 WARN MemoryManager: Total allocation exceeds 95.00% (1,020,054,720 bytes) of heap memory\n",
      "Scaling row group sizes to 58.46% for 13 writers\n",
      "22/03/07 14:09:07 WARN MemoryManager: Total allocation exceeds 95.00% (1,020,054,720 bytes) of heap memory\n",
      "Scaling row group sizes to 63.33% for 12 writers\n",
      "22/03/07 14:09:07 WARN MemoryManager: Total allocation exceeds 95.00% (1,020,054,720 bytes) of heap memory\n",
      "Scaling row group sizes to 69.09% for 11 writers\n",
      "22/03/07 14:09:07 WARN MemoryManager: Total allocation exceeds 95.00% (1,020,054,720 bytes) of heap memory\n",
      "Scaling row group sizes to 76.00% for 10 writers\n",
      "22/03/07 14:09:07 WARN MemoryManager: Total allocation exceeds 95.00% (1,020,054,720 bytes) of heap memory\n",
      "Scaling row group sizes to 84.44% for 9 writers\n",
      "22/03/07 14:09:07 WARN MemoryManager: Total allocation exceeds 95.00% (1,020,054,720 bytes) of heap memory\n",
      "Scaling row group sizes to 95.00% for 8 writers\n"
     ]
    }
   ],
   "source": [
    "from datetime import datetime\n",
    "timestamp = str(datetime.now())\n",
    "path = 'Models/gbt_model_' + timestamp\n",
    "gbt_best_model.save(path)"
   ]
  },
  {
   "cell_type": "code",
   "execution_count": 126,
   "metadata": {},
   "outputs": [],
   "source": [
    "from pyspark.mllib.tree import RandomForestModel"
   ]
  },
  {
   "cell_type": "code",
   "execution_count": 129,
   "metadata": {},
   "outputs": [
    {
     "data": {
      "text/plain": [
       "GBTRegressionModel: uid=GBTRegressor_1c86c2d64ef6, numTrees=20, numFeatures=10"
      ]
     },
     "execution_count": 129,
     "metadata": {},
     "output_type": "execute_result"
    }
   ],
   "source": [
    "gbt_best_model"
   ]
  },
  {
   "cell_type": "code",
   "execution_count": 128,
   "metadata": {},
   "outputs": [
    {
     "data": {
      "text/plain": [
       "'Models/gbt_model_2022-03-07 14:09:06.469097'"
      ]
     },
     "execution_count": 128,
     "metadata": {},
     "output_type": "execute_result"
    }
   ],
   "source": [
    "\n",
    "path"
   ]
  },
  {
   "cell_type": "code",
   "execution_count": 137,
   "metadata": {},
   "outputs": [],
   "source": [
    "\n",
    "from pathlib import Path"
   ]
  },
  {
   "cell_type": "code",
   "execution_count": 142,
   "metadata": {},
   "outputs": [],
   "source": [
    "new_path = Path(path).absolute().as_posix()\n"
   ]
  },
  {
   "cell_type": "code",
   "execution_count": 154,
   "metadata": {},
   "outputs": [
    {
     "ename": "IllegalArgumentException",
     "evalue": "java.net.URISyntaxException: Relative path in absolute URI: gbt_model_2022-03-07 14:09:06.469097",
     "output_type": "error",
     "traceback": [
      "\u001b[0;31m---------------------------------------------------------------------------\u001b[0m",
      "\u001b[0;31mIllegalArgumentException\u001b[0m                  Traceback (most recent call last)",
      "\u001b[0;32m/tmp/ipykernel_31227/3151260033.py\u001b[0m in \u001b[0;36m<module>\u001b[0;34m\u001b[0m\n\u001b[0;32m----> 1\u001b[0;31m \u001b[0mRandomForestRegressor\u001b[0m\u001b[0;34m.\u001b[0m\u001b[0mload\u001b[0m\u001b[0;34m(\u001b[0m\u001b[0mpath\u001b[0m\u001b[0;34m)\u001b[0m\u001b[0;34m\u001b[0m\u001b[0;34m\u001b[0m\u001b[0m\n\u001b[0m",
      "\u001b[0;32m/usr/local/spark/python/pyspark/ml/util.py\u001b[0m in \u001b[0;36mload\u001b[0;34m(cls, path)\u001b[0m\n\u001b[1;32m    330\u001b[0m     \u001b[0;32mdef\u001b[0m \u001b[0mload\u001b[0m\u001b[0;34m(\u001b[0m\u001b[0mcls\u001b[0m\u001b[0;34m,\u001b[0m \u001b[0mpath\u001b[0m\u001b[0;34m)\u001b[0m\u001b[0;34m:\u001b[0m\u001b[0;34m\u001b[0m\u001b[0;34m\u001b[0m\u001b[0m\n\u001b[1;32m    331\u001b[0m         \u001b[0;34m\"\"\"Reads an ML instance from the input path, a shortcut of `read().load(path)`.\"\"\"\u001b[0m\u001b[0;34m\u001b[0m\u001b[0;34m\u001b[0m\u001b[0m\n\u001b[0;32m--> 332\u001b[0;31m         \u001b[0;32mreturn\u001b[0m \u001b[0mcls\u001b[0m\u001b[0;34m.\u001b[0m\u001b[0mread\u001b[0m\u001b[0;34m(\u001b[0m\u001b[0;34m)\u001b[0m\u001b[0;34m.\u001b[0m\u001b[0mload\u001b[0m\u001b[0;34m(\u001b[0m\u001b[0mpath\u001b[0m\u001b[0;34m)\u001b[0m\u001b[0;34m\u001b[0m\u001b[0;34m\u001b[0m\u001b[0m\n\u001b[0m\u001b[1;32m    333\u001b[0m \u001b[0;34m\u001b[0m\u001b[0m\n\u001b[1;32m    334\u001b[0m \u001b[0;34m\u001b[0m\u001b[0m\n",
      "\u001b[0;32m/usr/local/spark/python/pyspark/ml/util.py\u001b[0m in \u001b[0;36mload\u001b[0;34m(self, path)\u001b[0m\n\u001b[1;32m    280\u001b[0m         \u001b[0;32mif\u001b[0m \u001b[0;32mnot\u001b[0m \u001b[0misinstance\u001b[0m\u001b[0;34m(\u001b[0m\u001b[0mpath\u001b[0m\u001b[0;34m,\u001b[0m \u001b[0mstr\u001b[0m\u001b[0;34m)\u001b[0m\u001b[0;34m:\u001b[0m\u001b[0;34m\u001b[0m\u001b[0;34m\u001b[0m\u001b[0m\n\u001b[1;32m    281\u001b[0m             \u001b[0;32mraise\u001b[0m \u001b[0mTypeError\u001b[0m\u001b[0;34m(\u001b[0m\u001b[0;34m\"path should be a string, got type %s\"\u001b[0m \u001b[0;34m%\u001b[0m \u001b[0mtype\u001b[0m\u001b[0;34m(\u001b[0m\u001b[0mpath\u001b[0m\u001b[0;34m)\u001b[0m\u001b[0;34m)\u001b[0m\u001b[0;34m\u001b[0m\u001b[0;34m\u001b[0m\u001b[0m\n\u001b[0;32m--> 282\u001b[0;31m         \u001b[0mjava_obj\u001b[0m \u001b[0;34m=\u001b[0m \u001b[0mself\u001b[0m\u001b[0;34m.\u001b[0m\u001b[0m_jread\u001b[0m\u001b[0;34m.\u001b[0m\u001b[0mload\u001b[0m\u001b[0;34m(\u001b[0m\u001b[0mpath\u001b[0m\u001b[0;34m)\u001b[0m\u001b[0;34m\u001b[0m\u001b[0;34m\u001b[0m\u001b[0m\n\u001b[0m\u001b[1;32m    283\u001b[0m         \u001b[0;32mif\u001b[0m \u001b[0;32mnot\u001b[0m \u001b[0mhasattr\u001b[0m\u001b[0;34m(\u001b[0m\u001b[0mself\u001b[0m\u001b[0;34m.\u001b[0m\u001b[0m_clazz\u001b[0m\u001b[0;34m,\u001b[0m \u001b[0;34m\"_from_java\"\u001b[0m\u001b[0;34m)\u001b[0m\u001b[0;34m:\u001b[0m\u001b[0;34m\u001b[0m\u001b[0;34m\u001b[0m\u001b[0m\n\u001b[1;32m    284\u001b[0m             raise NotImplementedError(\"This Java ML type cannot be loaded into Python currently: %r\"\n",
      "\u001b[0;32m/usr/local/spark/python/lib/py4j-0.10.9-src.zip/py4j/java_gateway.py\u001b[0m in \u001b[0;36m__call__\u001b[0;34m(self, *args)\u001b[0m\n\u001b[1;32m   1302\u001b[0m \u001b[0;34m\u001b[0m\u001b[0m\n\u001b[1;32m   1303\u001b[0m         \u001b[0manswer\u001b[0m \u001b[0;34m=\u001b[0m \u001b[0mself\u001b[0m\u001b[0;34m.\u001b[0m\u001b[0mgateway_client\u001b[0m\u001b[0;34m.\u001b[0m\u001b[0msend_command\u001b[0m\u001b[0;34m(\u001b[0m\u001b[0mcommand\u001b[0m\u001b[0;34m)\u001b[0m\u001b[0;34m\u001b[0m\u001b[0;34m\u001b[0m\u001b[0m\n\u001b[0;32m-> 1304\u001b[0;31m         return_value = get_return_value(\n\u001b[0m\u001b[1;32m   1305\u001b[0m             answer, self.gateway_client, self.target_id, self.name)\n\u001b[1;32m   1306\u001b[0m \u001b[0;34m\u001b[0m\u001b[0m\n",
      "\u001b[0;32m/usr/local/spark/python/pyspark/sql/utils.py\u001b[0m in \u001b[0;36mdeco\u001b[0;34m(*a, **kw)\u001b[0m\n\u001b[1;32m    115\u001b[0m                 \u001b[0;31m# Hide where the exception came from that shows a non-Pythonic\u001b[0m\u001b[0;34m\u001b[0m\u001b[0;34m\u001b[0m\u001b[0;34m\u001b[0m\u001b[0m\n\u001b[1;32m    116\u001b[0m                 \u001b[0;31m# JVM exception message.\u001b[0m\u001b[0;34m\u001b[0m\u001b[0;34m\u001b[0m\u001b[0;34m\u001b[0m\u001b[0m\n\u001b[0;32m--> 117\u001b[0;31m                 \u001b[0;32mraise\u001b[0m \u001b[0mconverted\u001b[0m \u001b[0;32mfrom\u001b[0m \u001b[0;32mNone\u001b[0m\u001b[0;34m\u001b[0m\u001b[0;34m\u001b[0m\u001b[0m\n\u001b[0m\u001b[1;32m    118\u001b[0m             \u001b[0;32melse\u001b[0m\u001b[0;34m:\u001b[0m\u001b[0;34m\u001b[0m\u001b[0;34m\u001b[0m\u001b[0m\n\u001b[1;32m    119\u001b[0m                 \u001b[0;32mraise\u001b[0m\u001b[0;34m\u001b[0m\u001b[0;34m\u001b[0m\u001b[0m\n",
      "\u001b[0;31mIllegalArgumentException\u001b[0m: java.net.URISyntaxException: Relative path in absolute URI: gbt_model_2022-03-07 14:09:06.469097"
     ]
    }
   ],
   "source": [
    "RandomForestRegressor.load(path)"
   ]
  },
  {
   "cell_type": "code",
   "execution_count": null,
   "metadata": {},
   "outputs": [],
   "source": [
    "#import org.apache.spark.sql.SparkSession\n",
    "#SparkSession spark = SparkSession\n",
    "  #.builder()\n",
    "  #.config(\"spark.sql.warehouse.dir\", \"file:///c:/tmp/spark-warehouse\")\n",
    "  #.getOrCreate()"
   ]
  }
 ],
 "metadata": {
  "interpreter": {
   "hash": "c1123dae94279c660cf34f777dea29eda36172fe1a19971838176cb40ac3ccca"
  },
  "kernelspec": {
   "display_name": "Python 3 (ipykernel)",
   "language": "python",
   "name": "python3"
  },
  "language_info": {
   "codemirror_mode": {
    "name": "ipython",
    "version": 3
   },
   "file_extension": ".py",
   "mimetype": "text/x-python",
   "name": "python",
   "nbconvert_exporter": "python",
   "pygments_lexer": "ipython3",
   "version": "3.8.12"
  }
 },
 "nbformat": 4,
 "nbformat_minor": 2
}
