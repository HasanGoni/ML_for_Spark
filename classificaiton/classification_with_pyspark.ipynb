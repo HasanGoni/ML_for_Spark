{
 "cells": [
  {
   "cell_type": "code",
   "execution_count": 21,
   "metadata": {},
   "outputs": [
    {
     "name": "stdout",
     "output_type": "stream",
     "text": [
      "The autoreload extension is already loaded. To reload it, use:\n",
      "  %reload_ext autoreload\n"
     ]
    }
   ],
   "source": [
    "%load_ext autoreload\n",
    "%autoreload 2"
   ]
  },
  {
   "cell_type": "code",
   "execution_count": 94,
   "metadata": {},
   "outputs": [
    {
     "data": {
      "text/html": [
       "\n",
       "            <div>\n",
       "                <p><b>SparkSession - in-memory</b></p>\n",
       "                \n",
       "        <div>\n",
       "            <p><b>SparkContext</b></p>\n",
       "\n",
       "            <p><a href=\"http://192.168.0.24:4041\">Spark UI</a></p>\n",
       "\n",
       "            <dl>\n",
       "              <dt>Version</dt>\n",
       "                <dd><code>v3.1.2</code></dd>\n",
       "              <dt>Master</dt>\n",
       "                <dd><code>local[*]</code></dd>\n",
       "              <dt>AppName</dt>\n",
       "                <dd><code>classification_first</code></dd>\n",
       "            </dl>\n",
       "        </div>\n",
       "        \n",
       "            </div>\n",
       "        "
      ],
      "text/plain": [
       "<pyspark.sql.session.SparkSession at 0x7f343c2771c0>"
      ]
     },
     "execution_count": 94,
     "metadata": {},
     "output_type": "execute_result"
    }
   ],
   "source": [
    "from pyspark.sql import SparkSession\n",
    "spark = SparkSession.builder\\\n",
    "        .appName(\"classification_first\")\\\n",
    "        .getOrCreate()\n",
    "spark\n",
    "    "
   ]
  },
  {
   "cell_type": "code",
   "execution_count": 95,
   "metadata": {},
   "outputs": [],
   "source": [
    "from pyspark.ml.classification import RandomForestClassifier\n",
    "from preprocssing import preprocess_csv\n",
    "from training import trainig_inference\n",
    "                            "
   ]
  },
  {
   "cell_type": "code",
   "execution_count": 96,
   "metadata": {},
   "outputs": [
    {
     "name": "stdout",
     "output_type": "stream",
     "text": [
      "printing dataframe\n",
      " =====\n",
      "   Case_No  A1  A2  A3  A4  A5  A6  A7  A8  A9  A10  Age_Mons  Qchat-10-Score  \\\n",
      "0        1   0   0   0   0   0   0   1   1   0    1        28               3   \n",
      "1        2   1   1   0   0   0   1   1   0   0    0        36               4   \n",
      "\n",
      "  Sex       Ethnicity Jaundice Family_mem_with_ASD Who completed the test  \\\n",
      "0   f  middle eastern      yes                  no          family member   \n",
      "1   m  White European      yes                  no          family member   \n",
      "\n",
      "  Class/ASD Traits   \n",
      "0                No  \n",
      "1               Yes  \n",
      "number of rows 1054\n",
      "removing nan from columns\n",
      "number of rows 1054\n",
      " printing dataframe schema \n",
      "\n",
      "root\n",
      " |-- Case_No: integer (nullable = true)\n",
      " |-- A1: integer (nullable = true)\n",
      " |-- A2: integer (nullable = true)\n",
      " |-- A3: integer (nullable = true)\n",
      " |-- A4: integer (nullable = true)\n",
      " |-- A5: integer (nullable = true)\n",
      " |-- A6: integer (nullable = true)\n",
      " |-- A7: integer (nullable = true)\n",
      " |-- A8: integer (nullable = true)\n",
      " |-- A9: integer (nullable = true)\n",
      " |-- A10: integer (nullable = true)\n",
      " |-- Age_Mons: integer (nullable = true)\n",
      " |-- Qchat-10-Score: integer (nullable = true)\n",
      " |-- Sex: string (nullable = true)\n",
      " |-- Ethnicity: string (nullable = true)\n",
      " |-- Jaundice: string (nullable = true)\n",
      " |-- Family_mem_with_ASD: string (nullable = true)\n",
      " |-- Who completed the test: string (nullable = true)\n",
      " |-- Class/ASD Traits : string (nullable = true)\n",
      "\n",
      "None\n",
      "This is a classification problem, showing distribution of dependent variable\n",
      "\n",
      " === printing distribution of output \n",
      " ====\n",
      "  Class/ASD Traits   count\n",
      "0                No    326\n",
      "1               Yes    728\n",
      "\n",
      " == independent variables are ['Case_No', 'A1', 'A2', 'A3', 'A4', 'A5', 'A6', 'A7', 'A8', 'A9', 'A10', 'Age_Mons', 'Qchat-10-Score', 'Sex', 'Ethnicity', 'Jaundice', 'Family_mem_with_ASD', 'Who completed the test'] == \n",
      "\n",
      " extracting continuous and categorical variables \n",
      "\n",
      " ======  \n",
      "['Case_No', 'A1', 'A2', 'A3', 'A4', 'A5', 'A6', 'A7', 'A8', 'A9', 'A10', 'Age_Mons', 'Qchat-10-Score', 'Sex', 'Ethnicity', 'Jaundice', 'Family_mem_with_ASD', 'Who completed the test', 'Class/ASD Traits ', 'Sex_num', 'Ethnicity_num', 'Jaundice_num', 'Family_mem_with_ASD_num', 'Who completed the test_num', 'label']\n",
      " continuous variables are ===  ['Case_No', 'A1', 'A2', 'A3', 'A4', 'A5', 'A6', 'A7', 'A8', 'A9', 'A10', 'Age_Mons', 'Qchat-10-Score'] === \n",
      " categorical variables == ['Sex_num', 'Ethnicity_num', 'Jaundice_num', 'Family_mem_with_ASD_num', 'Who completed the test_num']\n",
      " percentile of continuous columns extracting in a dictionary\n",
      " Treating outliers === \n",
      "\n",
      " =====so now columns are \n",
      " ===========\n",
      "['Case_No', 'A1', 'A2', 'A3', 'A4', 'A5', 'A6', 'A7', 'A8', 'A9', 'A10', 'Age_Mons', 'Qchat-10-Score', 'Sex', 'Ethnicity', 'Jaundice', 'Family_mem_with_ASD', 'Who completed the test', 'Class/ASD Traits ', 'Sex_num', 'Ethnicity_num', 'Jaundice_num', 'Family_mem_with_ASD_num', 'Who completed the test_num', 'label']\n",
      "\n",
      "\n",
      " ===================== features list ============\n",
      "\n",
      "['Case_No', 'A1', 'A2', 'A3', 'A4', 'A5', 'A6', 'A7', 'A8', 'A9', 'A10', 'Age_Mons', 'Qchat-10-Score', 'Sex_num', 'Ethnicity_num', 'Jaundice_num', 'Family_mem_with_ASD_num', 'Who completed the test_num']\n",
      " scaling features to Minmax\n",
      " minimum is = 0 and maximum is  1000\n",
      "+-----+--------------------+\n",
      "|label|      scaledFeatures|\n",
      "+-----+--------------------+\n",
      "|  1.0|(18,[7,8,10,11,12...|\n",
      "|  0.0|(18,[0,1,2,6,7,11...|\n",
      "|  0.0|(18,[0,1,7,8,10,1...|\n",
      "|  0.0|[2.84900284900284...|\n",
      "|  0.0|[3.79867046533713...|\n",
      "+-----+--------------------+\n",
      "only showing top 5 rows\n",
      "\n",
      "None\n",
      " printing again the reamed version of data\n",
      "\n",
      "+-----+--------------------+\n",
      "|label|            features|\n",
      "+-----+--------------------+\n",
      "|  1.0|(18,[7,8,10,11,12...|\n",
      "|  0.0|(18,[0,1,2,6,7,11...|\n",
      "|  0.0|(18,[0,1,7,8,10,1...|\n",
      "|  0.0|[2.84900284900284...|\n",
      "|  0.0|[3.79867046533713...|\n",
      "+-----+--------------------+\n",
      "only showing top 5 rows\n",
      "\n",
      "None\n",
      "splitting the data to test and training set\n"
     ]
    },
    {
     "data": {
      "image/png": "[encoded data removed]",
      "text/plain": [
       "<Figure size 432x288 with 1 Axes>"
      ]
     },
     "metadata": {
      "needs_background": "light"
     },
     "output_type": "display_data"
    }
   ],
   "source": [
    "df_train, df_test, features_list = preprocess_csv(\n",
    "    csv_file_name='Toddler Autism dataset July 2018.csv',\n",
    "    dependent_var='Class/ASD Traits ',\n",
    "    treat_outlier=True,\n",
    "    train_split=0.7,\n",
    "    test_split=0.3\n",
    ")\n"
   ]
  },
  {
   "cell_type": "code",
   "execution_count": 97,
   "metadata": {},
   "outputs": [
    {
     "name": "stdout",
     "output_type": "stream",
     "text": [
      "accuracy of the model on test data is 1.0\n",
      "\n"
     ]
    }
   ],
   "source": [
    "model_, fi, pred = trainig_inference(\n",
    "    classifier_name=RandomForestClassifier(),\n",
    "    df_train=df_train,\n",
    "    df_test=df_test,\n",
    "    features_list=features_list\n",
    ")"
   ]
  },
  {
   "cell_type": "code",
   "execution_count": 98,
   "metadata": {},
   "outputs": [
    {
     "name": "stdout",
     "output_type": "stream",
     "text": [
      "+--------------------+-------------------+\n",
      "|            features|feature_importances|\n",
      "+--------------------+-------------------+\n",
      "|      Qchat-10-Score| 0.5261002376034309|\n",
      "|                  A6|0.13308836257838527|\n",
      "|                  A1|0.12348050828935966|\n",
      "|                  A4|0.07651949171064036|\n",
      "|                  A7|0.07389976239656913|\n",
      "|                  A2|0.06691163742161475|\n",
      "|            Jaundice|                0.0|\n",
      "|            Age_Mons|                0.0|\n",
      "|                  A3|                0.0|\n",
      "|                  A8|                0.0|\n",
      "|Who completed the...|                0.0|\n",
      "|             Case_No|                0.0|\n",
      "|                  A9|                0.0|\n",
      "|                 A10|                0.0|\n",
      "|           Ethnicity|                0.0|\n",
      "|                 Sex|                0.0|\n",
      "| Family_mem_with_ASD|                0.0|\n",
      "|                  A5|                0.0|\n",
      "+--------------------+-------------------+\n",
      "\n"
     ]
    }
   ],
   "source": [
    "fi.show()"
   ]
  },
  {
   "cell_type": "code",
   "execution_count": 99,
   "metadata": {},
   "outputs": [
    {
     "name": "stdout",
     "output_type": "stream",
     "text": [
      "+-----+--------------------+--------------------+--------------------+----------+\n",
      "|label|            features|       rawPrediction|         probability|prediction|\n",
      "+-----+--------------------+--------------------+--------------------+----------+\n",
      "|  0.0|(18,[0,1,2,3,4,7,...|[4.73360107095046...|[0.94672021419009...|       0.0|\n",
      "|  0.0|(18,[0,1,2,3,5,6,...|[4.81184989333894...|[0.96236997866778...|       0.0|\n",
      "|  0.0|(18,[0,1,2,3,6,7,...|[4.81184989333894...|[0.96236997866778...|       0.0|\n",
      "|  0.0|(18,[0,1,2,4,5,6,...|[4.81184989333894...|[0.96236997866778...|       0.0|\n",
      "|  0.0|(18,[0,1,2,4,5,6,...|[4.81184989333894...|[0.96236997866778...|       0.0|\n",
      "|  0.0|(18,[0,1,2,4,6,7,...|[4.81184989333894...|[0.96236997866778...|       0.0|\n",
      "|  0.0|(18,[0,1,2,4,6,7,...|[4.81184989333894...|[0.96236997866778...|       0.0|\n",
      "|  0.0|(18,[0,1,2,4,6,7,...|[4.81184989333894...|[0.96236997866778...|       0.0|\n",
      "|  0.0|(18,[0,1,2,4,6,7,...|[4.81184989333894...|[0.96236997866778...|       0.0|\n",
      "|  0.0|(18,[0,1,2,4,7,11...|[4.73360107095046...|[0.94672021419009...|       0.0|\n",
      "|  0.0|(18,[0,1,2,4,10,1...|[4.73360107095046...|[0.94672021419009...|       0.0|\n",
      "|  0.0|(18,[0,1,2,5,6,7,...|[4.81184989333894...|[0.96236997866778...|       0.0|\n",
      "|  0.0|(18,[0,1,2,5,6,7,...|[4.81184989333894...|[0.96236997866778...|       0.0|\n",
      "|  0.0|(18,[0,1,2,5,6,7,...|[4.81184989333894...|[0.96236997866778...|       0.0|\n",
      "|  0.0|(18,[0,1,2,5,6,8,...|[4.81184989333894...|[0.96236997866778...|       0.0|\n",
      "|  0.0|(18,[0,1,2,5,7,10...|[4.73360107095046...|[0.94672021419009...|       0.0|\n",
      "|  0.0|(18,[0,1,2,5,7,11...|[4.73360107095046...|[0.94672021419009...|       0.0|\n",
      "|  0.0|(18,[0,1,2,5,7,11...|[4.73360107095046...|[0.94672021419009...|       0.0|\n",
      "|  0.0|(18,[0,1,2,6,8,10...|[4.81184989333894...|[0.96236997866778...|       0.0|\n",
      "|  0.0|(18,[0,1,2,6,8,10...|[4.81184989333894...|[0.96236997866778...|       0.0|\n",
      "+-----+--------------------+--------------------+--------------------+----------+\n",
      "only showing top 20 rows\n",
      "\n"
     ]
    }
   ],
   "source": [
    "pred.show()"
   ]
  },
  {
   "cell_type": "code",
   "execution_count": 100,
   "metadata": {},
   "outputs": [
    {
     "name": "stdout",
     "output_type": "stream",
     "text": [
      "+-----+---------------------------------------------------------------------------------------------------------------------------+\n",
      "|label|features                                                                                                                   |\n",
      "+-----+---------------------------------------------------------------------------------------------------------------------------+\n",
      "|0.0  |(18,[0,1,2,3,4,8,11,12,13,14],[907.8822412155745,1000.0,1000.0,1000.0,1000.0,1000.0,416.66666666666663,500.0,1000.0,500.0])|\n",
      "|0.0  |(18,[0,1,2,3,5,6,9,10,11,12],[935.4226020892687,1000.0,1000.0,1000.0,1000.0,1000.0,1000.0,1000.0,458.3333333333333,700.0]) |\n",
      "|0.0  |(18,[0,1,2,3,5,7,8,10,12,14],[14.245014245014245,1000.0,1000.0,1000.0,1000.0,1000.0,1000.0,1000.0,700.0,400.0])            |\n",
      "|0.0  |(18,[0,1,2,3,5,7,11,12,14],[748.338081671415,1000.0,1000.0,1000.0,1000.0,1000.0,958.3333333333333,500.0,600.0])            |\n",
      "|0.0  |(18,[0,1,2,3,7,8,11,12,14,17],[925.9259259259259,1000.0,1000.0,1000.0,1000.0,1000.0,500.0,500.0,400.0,1000.0])             |\n",
      "+-----+---------------------------------------------------------------------------------------------------------------------------+\n",
      "only showing top 5 rows\n",
      "\n"
     ]
    }
   ],
   "source": [
    "df_train.count(), df_test.count()\n",
    "df_train.show(5, False)"
   ]
  },
  {
   "cell_type": "code",
   "execution_count": null,
   "metadata": {},
   "outputs": [],
   "source": []
  }
 ],
 "metadata": {
  "interpreter": {
   "hash": "c1123dae94279c660cf34f777dea29eda36172fe1a19971838176cb40ac3ccca"
  },
  "kernelspec": {
   "display_name": "Python 3.8.12 ('spark_env_new')",
   "language": "python",
   "name": "python3"
  },
  "language_info": {
   "codemirror_mode": {
    "name": "ipython",
    "version": 3
   },
   "file_extension": ".py",
   "mimetype": "text/x-python",
   "name": "python",
   "nbconvert_exporter": "python",
   "pygments_lexer": "ipython3",
   "version": "3.8.12"
  },
  "orig_nbformat": 4
 },
 "nbformat": 4,
 "nbformat_minor": 2
}
